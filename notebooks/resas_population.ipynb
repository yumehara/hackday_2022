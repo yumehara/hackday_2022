{
  "nbformat": 4,
  "nbformat_minor": 0,
  "metadata": {
    "colab": {
      "provenance": [],
      "authorship_tag": "ABX9TyPVHziUqXdVhYOq7YrjhzYu",
      "include_colab_link": true
    },
    "kernelspec": {
      "name": "python3",
      "display_name": "Python 3"
    },
    "language_info": {
      "name": "python"
    }
  },
  "cells": [
    {
      "cell_type": "markdown",
      "metadata": {
        "id": "view-in-github",
        "colab_type": "text"
      },
      "source": [
        "<a href=\"https://colab.research.google.com/github/yumehara/hackday_2022/blob/main/notebooks/resas_population.ipynb\" target=\"_parent\"><img src=\"https://colab.research.google.com/assets/colab-badge.svg\" alt=\"Open In Colab\"/></a>"
      ]
    },
    {
      "cell_type": "markdown",
      "source": [
        "## RESASから市区町村ごとの人口ピラミッドのデータを生成 (2020年度)"
      ],
      "metadata": {
        "id": "BJJb_HEMKpiK"
      }
    },
    {
      "cell_type": "code",
      "execution_count": 1,
      "metadata": {
        "colab": {
          "base_uri": "https://localhost:8080/"
        },
        "id": "YBvv9-JKgOEN",
        "outputId": "19fa9261-9586-4d2b-8861-f02a9452081f"
      },
      "outputs": [
        {
          "output_type": "stream",
          "name": "stdout",
          "text": [
            "Mounted at /content/drive\n"
          ]
        }
      ],
      "source": [
        "from google.colab import drive\n",
        "drive.mount('/content/drive')"
      ]
    },
    {
      "cell_type": "code",
      "source": [
        "import os\n",
        "import requests\n",
        "import pandas as pd"
      ],
      "metadata": {
        "id": "rLFAa6fegPJi"
      },
      "execution_count": 2,
      "outputs": []
    },
    {
      "cell_type": "code",
      "source": [
        "DIR_NAME = '/content/drive/MyDrive/hackday/'"
      ],
      "metadata": {
        "id": "cK-i8FFpgTI4"
      },
      "execution_count": 3,
      "outputs": []
    },
    {
      "cell_type": "code",
      "source": [
        "def get_resas(url):\n",
        "    resas_url = 'https://opendata.resas-portal.go.jp'\n",
        "    API_KEY = 'ZnIHUbYqhylILgyEmSgRz7OcaH4vEhcQjtTJBvFN'\n",
        "    response = requests.get(resas_url + url, headers={'X-API-Key': API_KEY})\n",
        "    if response.status_code == requests.codes.ok:\n",
        "        return response.json().get('result')\n",
        "    else:\n",
        "        raise Exception(f'resas error: {response.status_code} {response.text}')"
      ],
      "metadata": {
        "id": "JbDC9vr7gVcn"
      },
      "execution_count": 4,
      "outputs": []
    },
    {
      "cell_type": "code",
      "source": [
        "# 都道府県コード\n",
        "pref_code = get_resas('/api/v1/prefectures')\n",
        "df_pref = pd.DataFrame(pref_code)\n",
        "print(len(df_pref))"
      ],
      "metadata": {
        "id": "sI7cxkhYg1rn",
        "outputId": "0a5b8d7d-b8d0-442c-8c27-0ff3741bb54f",
        "colab": {
          "base_uri": "https://localhost:8080/"
        }
      },
      "execution_count": 7,
      "outputs": [
        {
          "output_type": "stream",
          "name": "stdout",
          "text": [
            "47\n"
          ]
        }
      ]
    },
    {
      "cell_type": "code",
      "source": [
        "# 市区町村一覧\n",
        "df_city = pd.DataFrame()\n",
        "for index, row in df_pref.iterrows():\n",
        "    city = get_resas(f'/api/v1/cities?prefCode={row[\"prefCode\"]}')\n",
        "    _tmp = pd.DataFrame(city)\n",
        "    _tmp['prefName'] = row['prefName']\n",
        "    df_city = pd.concat([df_city, _tmp])\n",
        "\n",
        "print(df_city.shape)"
      ],
      "metadata": {
        "colab": {
          "base_uri": "https://localhost:8080/"
        },
        "id": "C9NbVs4AhSCj",
        "outputId": "6a7b10cd-884c-44a7-ce73-0fff4f4eeeef"
      },
      "execution_count": 8,
      "outputs": [
        {
          "output_type": "stream",
          "name": "stdout",
          "text": [
            "(1922, 5)\n"
          ]
        }
      ]
    },
    {
      "cell_type": "markdown",
      "source": [
        "### bigCityFlag 特別区・行政区フラグ\n",
        "- 0:一般の市区町村\n",
        "- 1:政令指定都市の区\n",
        "- 2:政令指定都市の市\n",
        "- 3:東京都23区"
      ],
      "metadata": {
        "id": "4ym1CS9Vf3gy"
      }
    },
    {
      "cell_type": "code",
      "source": [
        "df_city = df_city[~(df_city['bigCityFlag'] == '1')]\n",
        "print(df_city.shape)"
      ],
      "metadata": {
        "colab": {
          "base_uri": "https://localhost:8080/"
        },
        "id": "p4lwr-tVhYKN",
        "outputId": "65461322-a201-400d-d4ec-435ac89f2a25"
      },
      "execution_count": 12,
      "outputs": [
        {
          "output_type": "stream",
          "name": "stdout",
          "text": [
            "(1747, 5)\n"
          ]
        }
      ]
    },
    {
      "cell_type": "code",
      "source": [
        "year = 2020\n",
        "df_population = pd.DataFrame()\n",
        "for index, row in df_city.iterrows():\n",
        "    param = f'prefCode={row[\"prefCode\"]}&cityCode={row[\"cityCode\"]}&yearRight={year}&yearLeft={year}'\n",
        "    pop_pyramid = get_resas(f'/api/v1/population/composition/pyramid?{param}')\n",
        "    if pop_pyramid is not None:\n",
        "        _tmp = pd.DataFrame(pop_pyramid['yearLeft']['data'])\n",
        "        _tmp['prefCode'] = row['prefCode']\n",
        "        _tmp['prefName'] = row['prefName']\n",
        "        _tmp['cityCode'] = row['cityCode']\n",
        "        _tmp['cityName'] = row['cityName']\n",
        "        _tmp['year'] = year\n",
        "        df_population = pd.concat([df_population, _tmp])\n",
        "    else:\n",
        "        # データがない市町村\n",
        "        print(row['prefCode'], row['prefName'], row['cityCode'], row['cityName'])\n",
        "\n",
        "print(df_population.shape)"
      ],
      "metadata": {
        "colab": {
          "base_uri": "https://localhost:8080/"
        },
        "id": "DZWBra3Fi5hk",
        "outputId": "9c255f2b-8ab2-4cd3-85d4-1ba88d4310ff"
      },
      "execution_count": 13,
      "outputs": [
        {
          "output_type": "stream",
          "name": "stdout",
          "text": [
            "1 北海道 01695 色丹村\n",
            "1 北海道 01696 国後郡泊村\n",
            "1 北海道 01697 留夜別村\n",
            "1 北海道 01698 留別村\n",
            "1 北海道 01699 紗那村\n",
            "1 北海道 01700 蘂取村\n",
            "7 福島県 07201 福島市\n",
            "7 福島県 07202 会津若松市\n",
            "7 福島県 07203 郡山市\n",
            "7 福島県 07204 いわき市\n",
            "7 福島県 07205 白河市\n",
            "7 福島県 07207 須賀川市\n",
            "7 福島県 07208 喜多方市\n",
            "7 福島県 07209 相馬市\n",
            "7 福島県 07210 二本松市\n",
            "7 福島県 07211 田村市\n",
            "7 福島県 07212 南相馬市\n",
            "7 福島県 07213 伊達市\n",
            "7 福島県 07214 本宮市\n",
            "7 福島県 07301 桑折町\n",
            "7 福島県 07303 国見町\n",
            "7 福島県 07308 川俣町\n",
            "7 福島県 07322 大玉村\n",
            "7 福島県 07342 鏡石町\n",
            "7 福島県 07344 天栄村\n",
            "7 福島県 07362 下郷町\n",
            "7 福島県 07364 檜枝岐村\n",
            "7 福島県 07367 只見町\n",
            "7 福島県 07368 南会津町\n",
            "7 福島県 07402 北塩原村\n",
            "7 福島県 07405 西会津町\n",
            "7 福島県 07407 磐梯町\n",
            "7 福島県 07408 猪苗代町\n",
            "7 福島県 07421 会津坂下町\n",
            "7 福島県 07422 湯川村\n",
            "7 福島県 07423 柳津町\n",
            "7 福島県 07444 三島町\n",
            "7 福島県 07445 金山町\n",
            "7 福島県 07446 昭和村\n",
            "7 福島県 07447 会津美里町\n",
            "7 福島県 07461 西郷村\n",
            "7 福島県 07464 泉崎村\n",
            "7 福島県 07465 中島村\n",
            "7 福島県 07466 矢吹町\n",
            "7 福島県 07481 棚倉町\n",
            "7 福島県 07482 矢祭町\n",
            "7 福島県 07483 塙町\n",
            "7 福島県 07484 鮫川村\n",
            "7 福島県 07501 石川町\n",
            "7 福島県 07502 玉川村\n",
            "7 福島県 07503 平田村\n",
            "7 福島県 07504 浅川町\n",
            "7 福島県 07505 古殿町\n",
            "7 福島県 07521 三春町\n",
            "7 福島県 07522 小野町\n",
            "7 福島県 07541 広野町\n",
            "7 福島県 07542 楢葉町\n",
            "7 福島県 07543 富岡町\n",
            "7 福島県 07544 川内村\n",
            "7 福島県 07545 大熊町\n",
            "7 福島県 07546 双葉町\n",
            "7 福島県 07547 浪江町\n",
            "7 福島県 07548 葛尾村\n",
            "7 福島県 07561 新地町\n",
            "7 福島県 07564 飯舘村\n",
            "(31958, 10)\n"
          ]
        }
      ]
    },
    {
      "cell_type": "code",
      "source": [
        "df_population['population'] = df_population['man'] + df_population['woman']\n",
        "df_population.rename(columns={'prefName':'都道府県名', 'cityName':'市区町村名', 'cityCode':'団体コード'}, inplace=True)\n",
        "print(df_population.shape)"
      ],
      "metadata": {
        "id": "i4lgpr3wfOuB",
        "outputId": "afa5b410-8fda-4779-87dc-c2bc6f551aef",
        "colab": {
          "base_uri": "https://localhost:8080/"
        }
      },
      "execution_count": 14,
      "outputs": [
        {
          "output_type": "stream",
          "name": "stdout",
          "text": [
            "(31958, 11)\n"
          ]
        }
      ]
    },
    {
      "cell_type": "code",
      "source": [
        "df_population_pivot = df_population.pivot(index=['都道府県名', '市区町村名', '団体コード'], columns='class', values='population')\n",
        "df_population_pivot['人口'] = df_population_pivot.sum(axis=1)\n",
        "df_population_pivot = df_population_pivot.reset_index().sort_values('団体コード')\n",
        "df_population_pivot['団体コード'] = df_population_pivot['団体コード'].astype(int)\n",
        "print(df_population_pivot.shape)"
      ],
      "metadata": {
        "id": "O7bZDkWNllof",
        "outputId": "7f2a1b69-fe99-4978-fee4-3b7cd4907c8a",
        "colab": {
          "base_uri": "https://localhost:8080/"
        }
      },
      "execution_count": 21,
      "outputs": [
        {
          "output_type": "stream",
          "name": "stdout",
          "text": [
            "(1682, 23)\n"
          ]
        }
      ]
    },
    {
      "cell_type": "code",
      "source": [
        "df_population_pivot "
      ],
      "metadata": {
        "id": "L2VkCGxxhOB8",
        "outputId": "ea2138e6-9ca9-4ec8-8a76-e6ff75bbb071",
        "colab": {
          "base_uri": "https://localhost:8080/",
          "height": 974
        }
      },
      "execution_count": 22,
      "outputs": [
        {
          "output_type": "execute_result",
          "data": {
            "text/plain": [
              "class 都道府県名 市区町村名  団体コード   0～4歳  10～14歳  15～19歳  20～24歳  25～29歳  30～34歳  \\\n",
              "208     北海道   札幌市   1100  67504   76504   83883   99640   97964  107482   \n",
              "143     北海道   函館市   1202   7237    8876    9953    9544    9506   10795   \n",
              "180     北海道   小樽市   1203   2637    3740    4450    4225    3494    3809   \n",
              "203     北海道   旭川市   1204  10257   12518   13181   11855   12638   14037   \n",
              "176     北海道   室蘭市   1205   2555    2763    3688    4740    3502    3481   \n",
              "...     ...   ...    ...    ...     ...     ...     ...     ...     ...   \n",
              "1062    沖縄県  久米島町  47361    351     359     314     208     262     355   \n",
              "1067    沖縄県  八重瀬町  47362   2001    1837    1643    1327    1506    1892   \n",
              "1077    沖縄県  多良間村  47375     53      57      29      52      38      41   \n",
              "1091    沖縄県   竹富町  47381    260     229      45     187     278     319   \n",
              "1060    沖縄県  与那国町  47382     57      55      21      59      86     150   \n",
              "\n",
              "class  35～39歳  ...  55～59歳   5～9歳  60～64歳  65～69歳  70～74歳  75～79歳  80～84歳  \\\n",
              "208    122774  ...  130145  72735  121608  137026  144919  103045   78438   \n",
              "143     12714  ...   16383   8095   17124   20700   22656   16776   13339   \n",
              "180      4619  ...    7226   3083    7372    9828   11637    8786    6878   \n",
              "203     17251  ...   21057  11358   21999   26901   30026   22681   17657   \n",
              "176      3912  ...    4683   2581    4659    6366    7557    6148    4841   \n",
              "...       ...  ...     ...    ...     ...     ...     ...     ...     ...   \n",
              "1062      362  ...     549    367     596     626     455     319     276   \n",
              "1067     2093  ...    1914   2108    2040    2080    1532     985     976   \n",
              "1077       51  ...      87     58      96      87      67      58      53   \n",
              "1091      332  ...     208    256     262     271     178     103     101   \n",
              "1060      167  ...     187     65     195     161     106      42      40   \n",
              "\n",
              "class  85～89歳   90歳～       人口  \n",
              "208     58302  37299  1974801  \n",
              "143      9350   6215   249794  \n",
              "180      5011   3233   111129  \n",
              "203     12255   8261   329655  \n",
              "176      3241   1832    81874  \n",
              "...       ...    ...      ...  \n",
              "1062      265    265     7180  \n",
              "1067      733    621    31016  \n",
              "1077       33     21     1074  \n",
              "1091       94    116     4043  \n",
              "1060       32     17     1949  \n",
              "\n",
              "[1682 rows x 23 columns]"
            ],
            "text/html": [
              "\n",
              "  <div id=\"df-dff7826b-418c-463e-842c-c2f82cd4046c\">\n",
              "    <div class=\"colab-df-container\">\n",
              "      <div>\n",
              "<style scoped>\n",
              "    .dataframe tbody tr th:only-of-type {\n",
              "        vertical-align: middle;\n",
              "    }\n",
              "\n",
              "    .dataframe tbody tr th {\n",
              "        vertical-align: top;\n",
              "    }\n",
              "\n",
              "    .dataframe thead th {\n",
              "        text-align: right;\n",
              "    }\n",
              "</style>\n",
              "<table border=\"1\" class=\"dataframe\">\n",
              "  <thead>\n",
              "    <tr style=\"text-align: right;\">\n",
              "      <th>class</th>\n",
              "      <th>都道府県名</th>\n",
              "      <th>市区町村名</th>\n",
              "      <th>団体コード</th>\n",
              "      <th>0～4歳</th>\n",
              "      <th>10～14歳</th>\n",
              "      <th>15～19歳</th>\n",
              "      <th>20～24歳</th>\n",
              "      <th>25～29歳</th>\n",
              "      <th>30～34歳</th>\n",
              "      <th>35～39歳</th>\n",
              "      <th>...</th>\n",
              "      <th>55～59歳</th>\n",
              "      <th>5～9歳</th>\n",
              "      <th>60～64歳</th>\n",
              "      <th>65～69歳</th>\n",
              "      <th>70～74歳</th>\n",
              "      <th>75～79歳</th>\n",
              "      <th>80～84歳</th>\n",
              "      <th>85～89歳</th>\n",
              "      <th>90歳～</th>\n",
              "      <th>人口</th>\n",
              "    </tr>\n",
              "  </thead>\n",
              "  <tbody>\n",
              "    <tr>\n",
              "      <th>208</th>\n",
              "      <td>北海道</td>\n",
              "      <td>札幌市</td>\n",
              "      <td>1100</td>\n",
              "      <td>67504</td>\n",
              "      <td>76504</td>\n",
              "      <td>83883</td>\n",
              "      <td>99640</td>\n",
              "      <td>97964</td>\n",
              "      <td>107482</td>\n",
              "      <td>122774</td>\n",
              "      <td>...</td>\n",
              "      <td>130145</td>\n",
              "      <td>72735</td>\n",
              "      <td>121608</td>\n",
              "      <td>137026</td>\n",
              "      <td>144919</td>\n",
              "      <td>103045</td>\n",
              "      <td>78438</td>\n",
              "      <td>58302</td>\n",
              "      <td>37299</td>\n",
              "      <td>1974801</td>\n",
              "    </tr>\n",
              "    <tr>\n",
              "      <th>143</th>\n",
              "      <td>北海道</td>\n",
              "      <td>函館市</td>\n",
              "      <td>1202</td>\n",
              "      <td>7237</td>\n",
              "      <td>8876</td>\n",
              "      <td>9953</td>\n",
              "      <td>9544</td>\n",
              "      <td>9506</td>\n",
              "      <td>10795</td>\n",
              "      <td>12714</td>\n",
              "      <td>...</td>\n",
              "      <td>16383</td>\n",
              "      <td>8095</td>\n",
              "      <td>17124</td>\n",
              "      <td>20700</td>\n",
              "      <td>22656</td>\n",
              "      <td>16776</td>\n",
              "      <td>13339</td>\n",
              "      <td>9350</td>\n",
              "      <td>6215</td>\n",
              "      <td>249794</td>\n",
              "    </tr>\n",
              "    <tr>\n",
              "      <th>180</th>\n",
              "      <td>北海道</td>\n",
              "      <td>小樽市</td>\n",
              "      <td>1203</td>\n",
              "      <td>2637</td>\n",
              "      <td>3740</td>\n",
              "      <td>4450</td>\n",
              "      <td>4225</td>\n",
              "      <td>3494</td>\n",
              "      <td>3809</td>\n",
              "      <td>4619</td>\n",
              "      <td>...</td>\n",
              "      <td>7226</td>\n",
              "      <td>3083</td>\n",
              "      <td>7372</td>\n",
              "      <td>9828</td>\n",
              "      <td>11637</td>\n",
              "      <td>8786</td>\n",
              "      <td>6878</td>\n",
              "      <td>5011</td>\n",
              "      <td>3233</td>\n",
              "      <td>111129</td>\n",
              "    </tr>\n",
              "    <tr>\n",
              "      <th>203</th>\n",
              "      <td>北海道</td>\n",
              "      <td>旭川市</td>\n",
              "      <td>1204</td>\n",
              "      <td>10257</td>\n",
              "      <td>12518</td>\n",
              "      <td>13181</td>\n",
              "      <td>11855</td>\n",
              "      <td>12638</td>\n",
              "      <td>14037</td>\n",
              "      <td>17251</td>\n",
              "      <td>...</td>\n",
              "      <td>21057</td>\n",
              "      <td>11358</td>\n",
              "      <td>21999</td>\n",
              "      <td>26901</td>\n",
              "      <td>30026</td>\n",
              "      <td>22681</td>\n",
              "      <td>17657</td>\n",
              "      <td>12255</td>\n",
              "      <td>8261</td>\n",
              "      <td>329655</td>\n",
              "    </tr>\n",
              "    <tr>\n",
              "      <th>176</th>\n",
              "      <td>北海道</td>\n",
              "      <td>室蘭市</td>\n",
              "      <td>1205</td>\n",
              "      <td>2555</td>\n",
              "      <td>2763</td>\n",
              "      <td>3688</td>\n",
              "      <td>4740</td>\n",
              "      <td>3502</td>\n",
              "      <td>3481</td>\n",
              "      <td>3912</td>\n",
              "      <td>...</td>\n",
              "      <td>4683</td>\n",
              "      <td>2581</td>\n",
              "      <td>4659</td>\n",
              "      <td>6366</td>\n",
              "      <td>7557</td>\n",
              "      <td>6148</td>\n",
              "      <td>4841</td>\n",
              "      <td>3241</td>\n",
              "      <td>1832</td>\n",
              "      <td>81874</td>\n",
              "    </tr>\n",
              "    <tr>\n",
              "      <th>...</th>\n",
              "      <td>...</td>\n",
              "      <td>...</td>\n",
              "      <td>...</td>\n",
              "      <td>...</td>\n",
              "      <td>...</td>\n",
              "      <td>...</td>\n",
              "      <td>...</td>\n",
              "      <td>...</td>\n",
              "      <td>...</td>\n",
              "      <td>...</td>\n",
              "      <td>...</td>\n",
              "      <td>...</td>\n",
              "      <td>...</td>\n",
              "      <td>...</td>\n",
              "      <td>...</td>\n",
              "      <td>...</td>\n",
              "      <td>...</td>\n",
              "      <td>...</td>\n",
              "      <td>...</td>\n",
              "      <td>...</td>\n",
              "      <td>...</td>\n",
              "    </tr>\n",
              "    <tr>\n",
              "      <th>1062</th>\n",
              "      <td>沖縄県</td>\n",
              "      <td>久米島町</td>\n",
              "      <td>47361</td>\n",
              "      <td>351</td>\n",
              "      <td>359</td>\n",
              "      <td>314</td>\n",
              "      <td>208</td>\n",
              "      <td>262</td>\n",
              "      <td>355</td>\n",
              "      <td>362</td>\n",
              "      <td>...</td>\n",
              "      <td>549</td>\n",
              "      <td>367</td>\n",
              "      <td>596</td>\n",
              "      <td>626</td>\n",
              "      <td>455</td>\n",
              "      <td>319</td>\n",
              "      <td>276</td>\n",
              "      <td>265</td>\n",
              "      <td>265</td>\n",
              "      <td>7180</td>\n",
              "    </tr>\n",
              "    <tr>\n",
              "      <th>1067</th>\n",
              "      <td>沖縄県</td>\n",
              "      <td>八重瀬町</td>\n",
              "      <td>47362</td>\n",
              "      <td>2001</td>\n",
              "      <td>1837</td>\n",
              "      <td>1643</td>\n",
              "      <td>1327</td>\n",
              "      <td>1506</td>\n",
              "      <td>1892</td>\n",
              "      <td>2093</td>\n",
              "      <td>...</td>\n",
              "      <td>1914</td>\n",
              "      <td>2108</td>\n",
              "      <td>2040</td>\n",
              "      <td>2080</td>\n",
              "      <td>1532</td>\n",
              "      <td>985</td>\n",
              "      <td>976</td>\n",
              "      <td>733</td>\n",
              "      <td>621</td>\n",
              "      <td>31016</td>\n",
              "    </tr>\n",
              "    <tr>\n",
              "      <th>1077</th>\n",
              "      <td>沖縄県</td>\n",
              "      <td>多良間村</td>\n",
              "      <td>47375</td>\n",
              "      <td>53</td>\n",
              "      <td>57</td>\n",
              "      <td>29</td>\n",
              "      <td>52</td>\n",
              "      <td>38</td>\n",
              "      <td>41</td>\n",
              "      <td>51</td>\n",
              "      <td>...</td>\n",
              "      <td>87</td>\n",
              "      <td>58</td>\n",
              "      <td>96</td>\n",
              "      <td>87</td>\n",
              "      <td>67</td>\n",
              "      <td>58</td>\n",
              "      <td>53</td>\n",
              "      <td>33</td>\n",
              "      <td>21</td>\n",
              "      <td>1074</td>\n",
              "    </tr>\n",
              "    <tr>\n",
              "      <th>1091</th>\n",
              "      <td>沖縄県</td>\n",
              "      <td>竹富町</td>\n",
              "      <td>47381</td>\n",
              "      <td>260</td>\n",
              "      <td>229</td>\n",
              "      <td>45</td>\n",
              "      <td>187</td>\n",
              "      <td>278</td>\n",
              "      <td>319</td>\n",
              "      <td>332</td>\n",
              "      <td>...</td>\n",
              "      <td>208</td>\n",
              "      <td>256</td>\n",
              "      <td>262</td>\n",
              "      <td>271</td>\n",
              "      <td>178</td>\n",
              "      <td>103</td>\n",
              "      <td>101</td>\n",
              "      <td>94</td>\n",
              "      <td>116</td>\n",
              "      <td>4043</td>\n",
              "    </tr>\n",
              "    <tr>\n",
              "      <th>1060</th>\n",
              "      <td>沖縄県</td>\n",
              "      <td>与那国町</td>\n",
              "      <td>47382</td>\n",
              "      <td>57</td>\n",
              "      <td>55</td>\n",
              "      <td>21</td>\n",
              "      <td>59</td>\n",
              "      <td>86</td>\n",
              "      <td>150</td>\n",
              "      <td>167</td>\n",
              "      <td>...</td>\n",
              "      <td>187</td>\n",
              "      <td>65</td>\n",
              "      <td>195</td>\n",
              "      <td>161</td>\n",
              "      <td>106</td>\n",
              "      <td>42</td>\n",
              "      <td>40</td>\n",
              "      <td>32</td>\n",
              "      <td>17</td>\n",
              "      <td>1949</td>\n",
              "    </tr>\n",
              "  </tbody>\n",
              "</table>\n",
              "<p>1682 rows × 23 columns</p>\n",
              "</div>\n",
              "      <button class=\"colab-df-convert\" onclick=\"convertToInteractive('df-dff7826b-418c-463e-842c-c2f82cd4046c')\"\n",
              "              title=\"Convert this dataframe to an interactive table.\"\n",
              "              style=\"display:none;\">\n",
              "        \n",
              "  <svg xmlns=\"http://www.w3.org/2000/svg\" height=\"24px\"viewBox=\"0 0 24 24\"\n",
              "       width=\"24px\">\n",
              "    <path d=\"M0 0h24v24H0V0z\" fill=\"none\"/>\n",
              "    <path d=\"M18.56 5.44l.94 2.06.94-2.06 2.06-.94-2.06-.94-.94-2.06-.94 2.06-2.06.94zm-11 1L8.5 8.5l.94-2.06 2.06-.94-2.06-.94L8.5 2.5l-.94 2.06-2.06.94zm10 10l.94 2.06.94-2.06 2.06-.94-2.06-.94-.94-2.06-.94 2.06-2.06.94z\"/><path d=\"M17.41 7.96l-1.37-1.37c-.4-.4-.92-.59-1.43-.59-.52 0-1.04.2-1.43.59L10.3 9.45l-7.72 7.72c-.78.78-.78 2.05 0 2.83L4 21.41c.39.39.9.59 1.41.59.51 0 1.02-.2 1.41-.59l7.78-7.78 2.81-2.81c.8-.78.8-2.07 0-2.86zM5.41 20L4 18.59l7.72-7.72 1.47 1.35L5.41 20z\"/>\n",
              "  </svg>\n",
              "      </button>\n",
              "      \n",
              "  <style>\n",
              "    .colab-df-container {\n",
              "      display:flex;\n",
              "      flex-wrap:wrap;\n",
              "      gap: 12px;\n",
              "    }\n",
              "\n",
              "    .colab-df-convert {\n",
              "      background-color: #E8F0FE;\n",
              "      border: none;\n",
              "      border-radius: 50%;\n",
              "      cursor: pointer;\n",
              "      display: none;\n",
              "      fill: #1967D2;\n",
              "      height: 32px;\n",
              "      padding: 0 0 0 0;\n",
              "      width: 32px;\n",
              "    }\n",
              "\n",
              "    .colab-df-convert:hover {\n",
              "      background-color: #E2EBFA;\n",
              "      box-shadow: 0px 1px 2px rgba(60, 64, 67, 0.3), 0px 1px 3px 1px rgba(60, 64, 67, 0.15);\n",
              "      fill: #174EA6;\n",
              "    }\n",
              "\n",
              "    [theme=dark] .colab-df-convert {\n",
              "      background-color: #3B4455;\n",
              "      fill: #D2E3FC;\n",
              "    }\n",
              "\n",
              "    [theme=dark] .colab-df-convert:hover {\n",
              "      background-color: #434B5C;\n",
              "      box-shadow: 0px 1px 3px 1px rgba(0, 0, 0, 0.15);\n",
              "      filter: drop-shadow(0px 1px 2px rgba(0, 0, 0, 0.3));\n",
              "      fill: #FFFFFF;\n",
              "    }\n",
              "  </style>\n",
              "\n",
              "      <script>\n",
              "        const buttonEl =\n",
              "          document.querySelector('#df-dff7826b-418c-463e-842c-c2f82cd4046c button.colab-df-convert');\n",
              "        buttonEl.style.display =\n",
              "          google.colab.kernel.accessAllowed ? 'block' : 'none';\n",
              "\n",
              "        async function convertToInteractive(key) {\n",
              "          const element = document.querySelector('#df-dff7826b-418c-463e-842c-c2f82cd4046c');\n",
              "          const dataTable =\n",
              "            await google.colab.kernel.invokeFunction('convertToInteractive',\n",
              "                                                     [key], {});\n",
              "          if (!dataTable) return;\n",
              "\n",
              "          const docLinkHtml = 'Like what you see? Visit the ' +\n",
              "            '<a target=\"_blank\" href=https://colab.research.google.com/notebooks/data_table.ipynb>data table notebook</a>'\n",
              "            + ' to learn more about interactive tables.';\n",
              "          element.innerHTML = '';\n",
              "          dataTable['output_type'] = 'display_data';\n",
              "          await google.colab.output.renderOutput(dataTable, element);\n",
              "          const docLink = document.createElement('div');\n",
              "          docLink.innerHTML = docLinkHtml;\n",
              "          element.appendChild(docLink);\n",
              "        }\n",
              "      </script>\n",
              "    </div>\n",
              "  </div>\n",
              "  "
            ]
          },
          "metadata": {},
          "execution_count": 22
        }
      ]
    },
    {
      "cell_type": "code",
      "source": [
        "df_population_pivot.to_csv(os.path.join(DIR_NAME, 'intermediate/population_pyramid.csv'), index=False)"
      ],
      "metadata": {
        "id": "w4i-0ZwYhGEX"
      },
      "execution_count": 23,
      "outputs": []
    },
    {
      "cell_type": "code",
      "source": [],
      "metadata": {
        "id": "jpbFWBNxl_UK"
      },
      "execution_count": null,
      "outputs": []
    }
  ]
}