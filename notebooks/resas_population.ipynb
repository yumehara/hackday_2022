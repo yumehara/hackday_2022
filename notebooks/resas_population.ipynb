{
  "nbformat": 4,
  "nbformat_minor": 0,
  "metadata": {
    "colab": {
      "provenance": [],
      "authorship_tag": "ABX9TyOT+pgS2KvQlnaIc4dq/ji6",
      "include_colab_link": true
    },
    "kernelspec": {
      "name": "python3",
      "display_name": "Python 3"
    },
    "language_info": {
      "name": "python"
    }
  },
  "cells": [
    {
      "cell_type": "markdown",
      "metadata": {
        "id": "view-in-github",
        "colab_type": "text"
      },
      "source": [
        "<a href=\"https://colab.research.google.com/github/yumehara/hackday_2022/blob/main/notebooks/resas_population.ipynb\" target=\"_parent\"><img src=\"https://colab.research.google.com/assets/colab-badge.svg\" alt=\"Open In Colab\"/></a>"
      ]
    },
    {
      "cell_type": "markdown",
      "source": [
        "## RESASから市区町村ごとの人口ピラミッドのデータを生成"
      ],
      "metadata": {
        "id": "BJJb_HEMKpiK"
      }
    },
    {
      "cell_type": "code",
      "execution_count": 1,
      "metadata": {
        "colab": {
          "base_uri": "https://localhost:8080/"
        },
        "id": "YBvv9-JKgOEN",
        "outputId": "21e102a7-cdec-43d4-cc2a-a5dc4bd1d9d7"
      },
      "outputs": [
        {
          "output_type": "stream",
          "name": "stdout",
          "text": [
            "Mounted at /content/drive\n"
          ]
        }
      ],
      "source": [
        "from google.colab import drive\n",
        "drive.mount('/content/drive')"
      ]
    },
    {
      "cell_type": "code",
      "source": [
        "import os\n",
        "import requests\n",
        "import pandas as pd"
      ],
      "metadata": {
        "id": "rLFAa6fegPJi"
      },
      "execution_count": 4,
      "outputs": []
    },
    {
      "cell_type": "code",
      "source": [
        "DIR_NAME = '/content/drive/MyDrive/hackday/'"
      ],
      "metadata": {
        "id": "cK-i8FFpgTI4"
      },
      "execution_count": 3,
      "outputs": []
    },
    {
      "cell_type": "code",
      "source": [
        "def get_resas(url):\n",
        "    resas_url = 'https://opendata.resas-portal.go.jp'\n",
        "    API_KEY = 'XXXXXXX'\n",
        "    response = requests.get(resas_url + url, headers={'X-API-Key': API_KEY})\n",
        "    if response.status_code == requests.codes.ok:\n",
        "        return response.json().get('result')\n",
        "    else:\n",
        "        raise Exception(f'resas error: {response.status_code} {response.text}')"
      ],
      "metadata": {
        "id": "JbDC9vr7gVcn"
      },
      "execution_count": 5,
      "outputs": []
    },
    {
      "cell_type": "code",
      "source": [
        "# 都道府県コード\n",
        "pref_code = get_resas('/api/v1/prefectures')\n",
        "df_pref = pd.DataFrame(pref_code)"
      ],
      "metadata": {
        "id": "sI7cxkhYg1rn"
      },
      "execution_count": 9,
      "outputs": []
    },
    {
      "cell_type": "code",
      "source": [
        "# 市区町村一覧\n",
        "df_city = pd.DataFrame()\n",
        "for index, row in df_pref.iterrows():\n",
        "    city = get_resas(f'/api/v1/cities?prefCode={row[\"prefCode\"]}')\n",
        "    _tmp = pd.DataFrame(city)\n",
        "    _tmp['prefName'] = row['prefName']\n",
        "    df_city = pd.concat([df_city, _tmp])\n",
        "\n",
        "print(df_city.shape)"
      ],
      "metadata": {
        "colab": {
          "base_uri": "https://localhost:8080/"
        },
        "id": "C9NbVs4AhSCj",
        "outputId": "b57b9f4a-9cdf-43f3-8457-6dd3207f8a15"
      },
      "execution_count": 15,
      "outputs": [
        {
          "output_type": "stream",
          "name": "stdout",
          "text": [
            "(1922, 5)\n"
          ]
        }
      ]
    },
    {
      "cell_type": "code",
      "source": [
        "df_city"
      ],
      "metadata": {
        "colab": {
          "base_uri": "https://localhost:8080/",
          "height": 424
        },
        "id": "p4lwr-tVhYKN",
        "outputId": "89a784d5-133e-4ca7-bb44-69735594d3da"
      },
      "execution_count": 17,
      "outputs": [
        {
          "output_type": "execute_result",
          "data": {
            "text/plain": [
              "    prefCode cityCode cityName bigCityFlag prefName\n",
              "0          1    01100      札幌市           2      北海道\n",
              "1          1    01101   札幌市中央区           1      北海道\n",
              "2          1    01102    札幌市北区           1      北海道\n",
              "3          1    01103    札幌市東区           1      北海道\n",
              "4          1    01104   札幌市白石区           1      北海道\n",
              "..       ...      ...      ...         ...      ...\n",
              "36        47    47361     久米島町           0      沖縄県\n",
              "37        47    47362     八重瀬町           0      沖縄県\n",
              "38        47    47375     多良間村           0      沖縄県\n",
              "39        47    47381      竹富町           0      沖縄県\n",
              "40        47    47382     与那国町           0      沖縄県\n",
              "\n",
              "[1922 rows x 5 columns]"
            ],
            "text/html": [
              "\n",
              "  <div id=\"df-aee192ea-c561-4825-baf9-f257f3a578f8\">\n",
              "    <div class=\"colab-df-container\">\n",
              "      <div>\n",
              "<style scoped>\n",
              "    .dataframe tbody tr th:only-of-type {\n",
              "        vertical-align: middle;\n",
              "    }\n",
              "\n",
              "    .dataframe tbody tr th {\n",
              "        vertical-align: top;\n",
              "    }\n",
              "\n",
              "    .dataframe thead th {\n",
              "        text-align: right;\n",
              "    }\n",
              "</style>\n",
              "<table border=\"1\" class=\"dataframe\">\n",
              "  <thead>\n",
              "    <tr style=\"text-align: right;\">\n",
              "      <th></th>\n",
              "      <th>prefCode</th>\n",
              "      <th>cityCode</th>\n",
              "      <th>cityName</th>\n",
              "      <th>bigCityFlag</th>\n",
              "      <th>prefName</th>\n",
              "    </tr>\n",
              "  </thead>\n",
              "  <tbody>\n",
              "    <tr>\n",
              "      <th>0</th>\n",
              "      <td>1</td>\n",
              "      <td>01100</td>\n",
              "      <td>札幌市</td>\n",
              "      <td>2</td>\n",
              "      <td>北海道</td>\n",
              "    </tr>\n",
              "    <tr>\n",
              "      <th>1</th>\n",
              "      <td>1</td>\n",
              "      <td>01101</td>\n",
              "      <td>札幌市中央区</td>\n",
              "      <td>1</td>\n",
              "      <td>北海道</td>\n",
              "    </tr>\n",
              "    <tr>\n",
              "      <th>2</th>\n",
              "      <td>1</td>\n",
              "      <td>01102</td>\n",
              "      <td>札幌市北区</td>\n",
              "      <td>1</td>\n",
              "      <td>北海道</td>\n",
              "    </tr>\n",
              "    <tr>\n",
              "      <th>3</th>\n",
              "      <td>1</td>\n",
              "      <td>01103</td>\n",
              "      <td>札幌市東区</td>\n",
              "      <td>1</td>\n",
              "      <td>北海道</td>\n",
              "    </tr>\n",
              "    <tr>\n",
              "      <th>4</th>\n",
              "      <td>1</td>\n",
              "      <td>01104</td>\n",
              "      <td>札幌市白石区</td>\n",
              "      <td>1</td>\n",
              "      <td>北海道</td>\n",
              "    </tr>\n",
              "    <tr>\n",
              "      <th>...</th>\n",
              "      <td>...</td>\n",
              "      <td>...</td>\n",
              "      <td>...</td>\n",
              "      <td>...</td>\n",
              "      <td>...</td>\n",
              "    </tr>\n",
              "    <tr>\n",
              "      <th>36</th>\n",
              "      <td>47</td>\n",
              "      <td>47361</td>\n",
              "      <td>久米島町</td>\n",
              "      <td>0</td>\n",
              "      <td>沖縄県</td>\n",
              "    </tr>\n",
              "    <tr>\n",
              "      <th>37</th>\n",
              "      <td>47</td>\n",
              "      <td>47362</td>\n",
              "      <td>八重瀬町</td>\n",
              "      <td>0</td>\n",
              "      <td>沖縄県</td>\n",
              "    </tr>\n",
              "    <tr>\n",
              "      <th>38</th>\n",
              "      <td>47</td>\n",
              "      <td>47375</td>\n",
              "      <td>多良間村</td>\n",
              "      <td>0</td>\n",
              "      <td>沖縄県</td>\n",
              "    </tr>\n",
              "    <tr>\n",
              "      <th>39</th>\n",
              "      <td>47</td>\n",
              "      <td>47381</td>\n",
              "      <td>竹富町</td>\n",
              "      <td>0</td>\n",
              "      <td>沖縄県</td>\n",
              "    </tr>\n",
              "    <tr>\n",
              "      <th>40</th>\n",
              "      <td>47</td>\n",
              "      <td>47382</td>\n",
              "      <td>与那国町</td>\n",
              "      <td>0</td>\n",
              "      <td>沖縄県</td>\n",
              "    </tr>\n",
              "  </tbody>\n",
              "</table>\n",
              "<p>1922 rows × 5 columns</p>\n",
              "</div>\n",
              "      <button class=\"colab-df-convert\" onclick=\"convertToInteractive('df-aee192ea-c561-4825-baf9-f257f3a578f8')\"\n",
              "              title=\"Convert this dataframe to an interactive table.\"\n",
              "              style=\"display:none;\">\n",
              "        \n",
              "  <svg xmlns=\"http://www.w3.org/2000/svg\" height=\"24px\"viewBox=\"0 0 24 24\"\n",
              "       width=\"24px\">\n",
              "    <path d=\"M0 0h24v24H0V0z\" fill=\"none\"/>\n",
              "    <path d=\"M18.56 5.44l.94 2.06.94-2.06 2.06-.94-2.06-.94-.94-2.06-.94 2.06-2.06.94zm-11 1L8.5 8.5l.94-2.06 2.06-.94-2.06-.94L8.5 2.5l-.94 2.06-2.06.94zm10 10l.94 2.06.94-2.06 2.06-.94-2.06-.94-.94-2.06-.94 2.06-2.06.94z\"/><path d=\"M17.41 7.96l-1.37-1.37c-.4-.4-.92-.59-1.43-.59-.52 0-1.04.2-1.43.59L10.3 9.45l-7.72 7.72c-.78.78-.78 2.05 0 2.83L4 21.41c.39.39.9.59 1.41.59.51 0 1.02-.2 1.41-.59l7.78-7.78 2.81-2.81c.8-.78.8-2.07 0-2.86zM5.41 20L4 18.59l7.72-7.72 1.47 1.35L5.41 20z\"/>\n",
              "  </svg>\n",
              "      </button>\n",
              "      \n",
              "  <style>\n",
              "    .colab-df-container {\n",
              "      display:flex;\n",
              "      flex-wrap:wrap;\n",
              "      gap: 12px;\n",
              "    }\n",
              "\n",
              "    .colab-df-convert {\n",
              "      background-color: #E8F0FE;\n",
              "      border: none;\n",
              "      border-radius: 50%;\n",
              "      cursor: pointer;\n",
              "      display: none;\n",
              "      fill: #1967D2;\n",
              "      height: 32px;\n",
              "      padding: 0 0 0 0;\n",
              "      width: 32px;\n",
              "    }\n",
              "\n",
              "    .colab-df-convert:hover {\n",
              "      background-color: #E2EBFA;\n",
              "      box-shadow: 0px 1px 2px rgba(60, 64, 67, 0.3), 0px 1px 3px 1px rgba(60, 64, 67, 0.15);\n",
              "      fill: #174EA6;\n",
              "    }\n",
              "\n",
              "    [theme=dark] .colab-df-convert {\n",
              "      background-color: #3B4455;\n",
              "      fill: #D2E3FC;\n",
              "    }\n",
              "\n",
              "    [theme=dark] .colab-df-convert:hover {\n",
              "      background-color: #434B5C;\n",
              "      box-shadow: 0px 1px 3px 1px rgba(0, 0, 0, 0.15);\n",
              "      filter: drop-shadow(0px 1px 2px rgba(0, 0, 0, 0.3));\n",
              "      fill: #FFFFFF;\n",
              "    }\n",
              "  </style>\n",
              "\n",
              "      <script>\n",
              "        const buttonEl =\n",
              "          document.querySelector('#df-aee192ea-c561-4825-baf9-f257f3a578f8 button.colab-df-convert');\n",
              "        buttonEl.style.display =\n",
              "          google.colab.kernel.accessAllowed ? 'block' : 'none';\n",
              "\n",
              "        async function convertToInteractive(key) {\n",
              "          const element = document.querySelector('#df-aee192ea-c561-4825-baf9-f257f3a578f8');\n",
              "          const dataTable =\n",
              "            await google.colab.kernel.invokeFunction('convertToInteractive',\n",
              "                                                     [key], {});\n",
              "          if (!dataTable) return;\n",
              "\n",
              "          const docLinkHtml = 'Like what you see? Visit the ' +\n",
              "            '<a target=\"_blank\" href=https://colab.research.google.com/notebooks/data_table.ipynb>data table notebook</a>'\n",
              "            + ' to learn more about interactive tables.';\n",
              "          element.innerHTML = '';\n",
              "          dataTable['output_type'] = 'display_data';\n",
              "          await google.colab.output.renderOutput(dataTable, element);\n",
              "          const docLink = document.createElement('div');\n",
              "          docLink.innerHTML = docLinkHtml;\n",
              "          element.appendChild(docLink);\n",
              "        }\n",
              "      </script>\n",
              "    </div>\n",
              "  </div>\n",
              "  "
            ]
          },
          "metadata": {},
          "execution_count": 17
        }
      ]
    },
    {
      "cell_type": "code",
      "source": [
        "year = 2020\n",
        "df_population = pd.DataFrame()\n",
        "for index, row in df_city.iterrows():\n",
        "    param = f'prefCode={row[\"prefCode\"]}&cityCode={row[\"cityCode\"]}&yearRight={year}&yearLeft={year}'\n",
        "    pop_pyramid = get_resas(f'/api/v1/population/composition/pyramid?{param}')\n",
        "    if pop_pyramid is not None:\n",
        "        _tmp = pd.DataFrame(pop_pyramid['yearLeft']['data'])\n",
        "        _tmp['prefCode'] = row['prefCode']\n",
        "        _tmp['prefName'] = row['prefName']\n",
        "        _tmp['cityCode'] = row['cityCode']\n",
        "        _tmp['cityName'] = row['cityName']\n",
        "        _tmp['year'] = year\n",
        "        df_population = pd.concat([df_population, _tmp])\n",
        "    else:\n",
        "        print(row['prefCode'], row['cityCode'], row['cityName'])\n",
        "\n",
        "print(df_population.shape)"
      ],
      "metadata": {
        "colab": {
          "base_uri": "https://localhost:8080/"
        },
        "id": "DZWBra3Fi5hk",
        "outputId": "5a541f01-0c86-4f00-cf68-ec03a08a21c6"
      },
      "execution_count": 24,
      "outputs": [
        {
          "output_type": "stream",
          "name": "stdout",
          "text": [
            "1 01695 色丹村\n",
            "1 01696 国後郡泊村\n",
            "1 01697 留夜別村\n",
            "1 01698 留別村\n",
            "1 01699 紗那村\n",
            "1 01700 蘂取村\n",
            "7 07201 福島市\n",
            "7 07202 会津若松市\n",
            "7 07203 郡山市\n",
            "7 07204 いわき市\n",
            "7 07205 白河市\n",
            "7 07207 須賀川市\n",
            "7 07208 喜多方市\n",
            "7 07209 相馬市\n",
            "7 07210 二本松市\n",
            "7 07211 田村市\n",
            "7 07212 南相馬市\n",
            "7 07213 伊達市\n",
            "7 07214 本宮市\n",
            "7 07301 桑折町\n",
            "7 07303 国見町\n",
            "7 07308 川俣町\n",
            "7 07322 大玉村\n",
            "7 07342 鏡石町\n",
            "7 07344 天栄村\n",
            "7 07362 下郷町\n",
            "7 07364 檜枝岐村\n",
            "7 07367 只見町\n",
            "7 07368 南会津町\n",
            "7 07402 北塩原村\n",
            "7 07405 西会津町\n",
            "7 07407 磐梯町\n",
            "7 07408 猪苗代町\n",
            "7 07421 会津坂下町\n",
            "7 07422 湯川村\n",
            "7 07423 柳津町\n",
            "7 07444 三島町\n",
            "7 07445 金山町\n",
            "7 07446 昭和村\n",
            "7 07447 会津美里町\n",
            "7 07461 西郷村\n",
            "7 07464 泉崎村\n",
            "7 07465 中島村\n",
            "7 07466 矢吹町\n",
            "7 07481 棚倉町\n",
            "7 07482 矢祭町\n",
            "7 07483 塙町\n",
            "7 07484 鮫川村\n",
            "7 07501 石川町\n",
            "7 07502 玉川村\n",
            "7 07503 平田村\n",
            "7 07504 浅川町\n",
            "7 07505 古殿町\n",
            "7 07521 三春町\n",
            "7 07522 小野町\n",
            "7 07541 広野町\n",
            "7 07542 楢葉町\n",
            "7 07543 富岡町\n",
            "7 07544 川内村\n",
            "7 07545 大熊町\n",
            "7 07546 双葉町\n",
            "7 07547 浪江町\n",
            "7 07548 葛尾村\n",
            "7 07561 新地町\n",
            "7 07564 飯舘村\n",
            "11 11101 さいたま市西区\n",
            "11 11102 さいたま市北区\n",
            "11 11103 さいたま市大宮区\n",
            "11 11104 さいたま市見沼区\n",
            "11 11105 さいたま市中央区\n",
            "11 11106 さいたま市桜区\n",
            "11 11107 さいたま市浦和区\n",
            "11 11108 さいたま市南区\n",
            "11 11109 さいたま市緑区\n",
            "11 11110 さいたま市岩槻区\n",
            "14 14151 相模原市緑区\n",
            "14 14152 相模原市中央区\n",
            "14 14153 相模原市南区\n",
            "15 15101 新潟市北区\n",
            "15 15102 新潟市東区\n",
            "15 15103 新潟市中央区\n",
            "15 15104 新潟市江南区\n",
            "15 15105 新潟市秋葉区\n",
            "15 15106 新潟市南区\n",
            "15 15107 新潟市西区\n",
            "15 15108 新潟市西蒲区\n",
            "22 22101 静岡市葵区\n",
            "22 22102 静岡市駿河区\n",
            "22 22103 静岡市清水区\n",
            "22 22131 浜松市中区\n",
            "22 22132 浜松市東区\n",
            "22 22133 浜松市西区\n",
            "22 22134 浜松市南区\n",
            "22 22135 浜松市北区\n",
            "22 22136 浜松市浜北区\n",
            "22 22137 浜松市天竜区\n",
            "27 27141 堺市堺区\n",
            "27 27142 堺市中区\n",
            "27 27143 堺市東区\n",
            "27 27144 堺市西区\n",
            "27 27145 堺市南区\n",
            "27 27146 堺市北区\n",
            "27 27147 堺市美原区\n",
            "33 33101 岡山市北区\n",
            "33 33102 岡山市中区\n",
            "33 33103 岡山市東区\n",
            "33 33104 岡山市南区\n",
            "43 43101 熊本市中央区\n",
            "43 43102 熊本市東区\n",
            "43 43103 熊本市西区\n",
            "43 43104 熊本市南区\n",
            "43 43105 熊本市北区\n",
            "(34390, 10)\n"
          ]
        }
      ]
    },
    {
      "cell_type": "code",
      "source": [
        "df_population.to_csv(os.path.join(DIR_NAME, 'population_pyramid.csv'), index=False)"
      ],
      "metadata": {
        "id": "Jgi3fzOpggWj"
      },
      "execution_count": 26,
      "outputs": []
    },
    {
      "cell_type": "code",
      "source": [],
      "metadata": {
        "id": "O7bZDkWNllof"
      },
      "execution_count": null,
      "outputs": []
    }
  ]
}