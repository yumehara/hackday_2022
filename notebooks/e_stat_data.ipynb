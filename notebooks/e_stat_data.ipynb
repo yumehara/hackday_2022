{
  "nbformat": 4,
  "nbformat_minor": 0,
  "metadata": {
    "colab": {
      "provenance": [],
      "machine_shape": "hm",
      "authorship_tag": "ABX9TyPWlX8lGlT3JfLibn9ST0FM",
      "include_colab_link": true
    },
    "kernelspec": {
      "name": "python3",
      "display_name": "Python 3"
    },
    "language_info": {
      "name": "python"
    }
  },
  "cells": [
    {
      "cell_type": "markdown",
      "metadata": {
        "id": "view-in-github",
        "colab_type": "text"
      },
      "source": [
        "<a href=\"https://colab.research.google.com/github/yumehara/hackday_2022/blob/main/notebooks/e_stat_data.ipynb\" target=\"_parent\"><img src=\"https://colab.research.google.com/assets/colab-badge.svg\" alt=\"Open In Colab\"/></a>"
      ]
    },
    {
      "cell_type": "markdown",
      "source": [
        "# e-Statで取得したデータの加工\n",
        "- https://www.e-stat.go.jp/regional-statistics/ssdsview/municipality\n",
        "- 地域選択\n",
        "    - 表示データ: 現在の市区町村\n",
        "    - 地域区分: 都道府県すべて\n",
        "    - 絞り込み: 特別区、市（特別区部を除く）、町・村\n",
        "- 表示項目選択\n",
        "    - 絞り込み: 基礎データ\n",
        "    - 各種データを選択\n",
        "- ダウンロード\n",
        "    - ダウンロード範囲: 全ての調査年\n",
        "    - ファイル形式: CSV形式\n",
        "    - ヘッダの出力: 出力しない\n",
        "    - コードの出力: 出力する\n",
        "    - 階層コードの出力: 出力しない\n",
        "    - 凡例の出力: 出力しない\n",
        "    - 注釈を表示する: チェックOFF\n",
        "    - データがない行を表示しない: チェックON\n",
        "    - データがない列を表示しない: チェックON\n",
        "    - 桁区切りを使用しない\n",
        "    - 特殊文字の選択: 置き換えない"
      ],
      "metadata": {
        "id": "U5BpvjOiCzKn"
      }
    },
    {
      "cell_type": "code",
      "execution_count": 1,
      "metadata": {
        "colab": {
          "base_uri": "https://localhost:8080/"
        },
        "id": "vb8dwtkkpFy3",
        "outputId": "3d240707-0bb0-4e26-e3f3-f5c94c6f1915"
      },
      "outputs": [
        {
          "output_type": "stream",
          "name": "stdout",
          "text": [
            "Drive already mounted at /content/drive; to attempt to forcibly remount, call drive.mount(\"/content/drive\", force_remount=True).\n"
          ]
        }
      ],
      "source": [
        "from google.colab import drive\n",
        "drive.mount('/content/drive')"
      ]
    },
    {
      "cell_type": "code",
      "source": [
        "!pip install -q japanize-matplotlib\n",
        "\n",
        "import os\n",
        "import pandas as pd\n",
        "import matplotlib.pyplot as plt\n",
        "import japanize_matplotlib\n",
        "import glob\n",
        "import numpy as np"
      ],
      "metadata": {
        "id": "fSlzxssDpj9P"
      },
      "execution_count": 2,
      "outputs": []
    },
    {
      "cell_type": "code",
      "source": [
        "DIR_NAME = '/content/drive/MyDrive/hackday/'"
      ],
      "metadata": {
        "id": "lvhRVYYkpt-G"
      },
      "execution_count": 3,
      "outputs": []
    },
    {
      "cell_type": "code",
      "source": [
        "org_csv_list = glob.glob(os.path.join(DIR_NAME, 'org/*.csv'))\n",
        "org_csv_list.sort()\n",
        "org_csv_list"
      ],
      "metadata": {
        "colab": {
          "base_uri": "https://localhost:8080/"
        },
        "id": "bJzLGfROp2RB",
        "outputId": "00b56e59-57e5-495c-9129-6932e1cdb327"
      },
      "execution_count": 4,
      "outputs": [
        {
          "output_type": "execute_result",
          "data": {
            "text/plain": [
              "['/content/drive/MyDrive/hackday/org/FEI_CITY_220915090310(1).csv',\n",
              " '/content/drive/MyDrive/hackday/org/FEI_CITY_220915090310(2).csv',\n",
              " '/content/drive/MyDrive/hackday/org/FEI_CITY_220915090310(3).csv',\n",
              " '/content/drive/MyDrive/hackday/org/FEI_CITY_220915090310(4).csv',\n",
              " '/content/drive/MyDrive/hackday/org/FEI_CITY_220915095416(1).csv',\n",
              " '/content/drive/MyDrive/hackday/org/FEI_CITY_220915095416(2).csv',\n",
              " '/content/drive/MyDrive/hackday/org/FEI_CITY_220915095416(3).csv',\n",
              " '/content/drive/MyDrive/hackday/org/FEI_CITY_220915095416(4).csv']"
            ]
          },
          "metadata": {},
          "execution_count": 4
        }
      ]
    },
    {
      "cell_type": "code",
      "source": [
        "df_org = pd.DataFrame()\n",
        "for file in org_csv_list:\n",
        "    _tmp = pd.read_csv(file, encoding='shift-jis', skiprows=1).replace('***', np.NaN).replace('-', np.NaN)\n",
        "    print(file, _tmp.shape)\n",
        "    df_org = pd.concat([df_org, _tmp])\n",
        "\n",
        "print(df_org.shape)"
      ],
      "metadata": {
        "colab": {
          "base_uri": "https://localhost:8080/"
        },
        "id": "8k3Idd9zpwQN",
        "outputId": "f52ec39c-8794-4fb5-c04c-8ea516964899"
      },
      "execution_count": 5,
      "outputs": [
        {
          "output_type": "stream",
          "name": "stdout",
          "text": [
            "/content/drive/MyDrive/hackday/org/FEI_CITY_220915090310(1).csv (20833, 29)\n",
            "/content/drive/MyDrive/hackday/org/FEI_CITY_220915090310(2).csv (20833, 29)\n",
            "/content/drive/MyDrive/hackday/org/FEI_CITY_220915090310(3).csv (20833, 29)\n",
            "/content/drive/MyDrive/hackday/org/FEI_CITY_220915090310(4).csv (8882, 29)\n",
            "/content/drive/MyDrive/hackday/org/FEI_CITY_220915095416(1).csv (21739, 28)\n",
            "/content/drive/MyDrive/hackday/org/FEI_CITY_220915095416(2).csv (21739, 28)\n",
            "/content/drive/MyDrive/hackday/org/FEI_CITY_220915095416(3).csv (21739, 28)\n",
            "/content/drive/MyDrive/hackday/org/FEI_CITY_220915095416(4).csv (6164, 28)\n",
            "(142762, 52)\n"
          ]
        }
      ]
    },
    {
      "cell_type": "code",
      "source": [
        "df_org.columns"
      ],
      "metadata": {
        "colab": {
          "base_uri": "https://localhost:8080/"
        },
        "id": "pVLn8KLiqzVN",
        "outputId": "19f1901a-53a1-4a76-bcc8-11779f9ffb56"
      },
      "execution_count": 6,
      "outputs": [
        {
          "output_type": "execute_result",
          "data": {
            "text/plain": [
              "Index(['調査年 コード', '調査年', '地域 コード', '地域', '/項目', 'C2107_事業所数（経済センサス‐基礎調査結果）【所】',\n",
              "       'C5401_標準価格（平均価格）（住宅地）【円／ｍ2】', 'D1202_一般行政部門職員数（市区町村）【人】',\n",
              "       'D2201_財政力指数（市町村財政）【‐】', 'D2202_実質収支比率（市町村財政）【％】',\n",
              "       'D2204_公債費比率（市町村財政）【％】', 'D2209_一般財源（市町村財政）【千円】',\n",
              "       'D2214_実質赤字比率（市町村財政）【％】', 'D320401_人件費（市町村財政）【千円】', 'G1201_公民館数【館】',\n",
              "       'G1401_図書館数【館】', 'H6101_小売店数（事業所・企業統計調査結果）【事業所】',\n",
              "       'H6102_飲食店数（事業所・企業統計調査結果）【事業所】', 'I5101_病院数【施設】', 'I5211_病院病床数【床】',\n",
              "       'I6100_医師数【人】', 'I6300_薬剤師数【人】', 'J2503_保育所等数（詳細票）【所】',\n",
              "       'J250301_公営保育所等数（詳細票）【所】', 'J250302_保育所等数（基本票）【所】',\n",
              "       'J250303_公営保育所等数（基本票）【所】', 'J2506_保育所等在所児数（詳細票）【人】',\n",
              "       'K3101_交通事故発生件数【件】', 'K4201_刑法犯認知件数【件】', 'A1101_総人口【人】',\n",
              "       'A1301_15歳未満人口【人】', 'A1302_15〜64歳人口【人】', 'A1303_65歳以上人口【人】',\n",
              "       'A7101_世帯数【世帯】', 'B1101_総面積（北方地域及び竹島を除く）【ｈａ】', 'B1103_可住地面積【ｈａ】',\n",
              "       'B1105_林野面積【ｈａ】', 'B1106_森林面積【ｈａ】', 'B1107_森林以外の草生地面積【ｈａ】',\n",
              "       'E1101_幼稚園数【園】', 'E1501_幼稚園在園者数【人】', 'E2101_小学校数【校】', 'E2401_小学校教員数【人】',\n",
              "       'E2501_小学校児童数【人】', 'E3101_中学校数【校】', 'E3401_中学校教員数【人】',\n",
              "       'E3501_中学校生徒数【人】', 'E4101_高等学校数【校】', 'E4501_高等学校生徒数【人】',\n",
              "       'H2904_最寄りの保育所までの距離が1000ｍ以上の住宅数【住宅】',\n",
              "       'H2913_最寄りの老人デイサービスセンターまでの距離が1000〜2000ｍ未満の住宅数【住宅】',\n",
              "       'H5609_ごみ総排出量（総量）【ｔ】'],\n",
              "      dtype='object')"
            ]
          },
          "metadata": {},
          "execution_count": 6
        }
      ]
    },
    {
      "cell_type": "code",
      "source": [
        "column_year = []\n",
        "for col in df_org.columns[5:]:\n",
        "    column_year.append((col, sorted(df_org[df_org[col].notna()]['調査年'].unique(), reverse=True)[0]))\n",
        "\n",
        "    df_org[col] = df_org[col].astype(float)"
      ],
      "metadata": {
        "id": "C86swM2sq8sm"
      },
      "execution_count": 7,
      "outputs": []
    },
    {
      "cell_type": "code",
      "source": [
        "df_recent_year = df_org[['地域 コード', '地域']].drop_duplicates()\n",
        "print(len(df_recent_year))"
      ],
      "metadata": {
        "colab": {
          "base_uri": "https://localhost:8080/"
        },
        "id": "5U0RWrBjw2ZV",
        "outputId": "4bc8c524-787a-485d-dc58-f7c0e49aae67"
      },
      "execution_count": 8,
      "outputs": [
        {
          "output_type": "stream",
          "name": "stdout",
          "text": [
            "1741\n"
          ]
        }
      ]
    },
    {
      "cell_type": "code",
      "source": [
        "for col, year in column_year:\n",
        "    _tmp = df_org[(df_org['調査年']==year)&(df_org[col].notna())][['地域 コード', '地域', col]]\n",
        "    print(col, len(_tmp))\n",
        "    df_recent_year = pd.merge(\n",
        "        df_recent_year,\n",
        "        _tmp.rename(columns={col: col+'_'+year}),\n",
        "        on=['地域 コード', '地域'], how='left'\n",
        "    )\n",
        "\n",
        "print(df_recent_year.shape)"
      ],
      "metadata": {
        "colab": {
          "base_uri": "https://localhost:8080/"
        },
        "id": "SHqCYIPDtjUz",
        "outputId": "604551d4-8e1d-4f0f-b8a9-43363edff4d2"
      },
      "execution_count": 9,
      "outputs": [
        {
          "output_type": "stream",
          "name": "stdout",
          "text": [
            "C2107_事業所数（経済センサス‐基礎調査結果）【所】 1741\n",
            "C5401_標準価格（平均価格）（住宅地）【円／ｍ2】 1602\n",
            "D1202_一般行政部門職員数（市区町村）【人】 1741\n",
            "D2201_財政力指数（市町村財政）【‐】 1718\n",
            "D2202_実質収支比率（市町村財政）【％】 1718\n",
            "D2204_公債費比率（市町村財政）【％】 1673\n",
            "D2209_一般財源（市町村財政）【千円】 1741\n",
            "D2214_実質赤字比率（市町村財政）【％】 1741\n",
            "D320401_人件費（市町村財政）【千円】 1741\n",
            "G1201_公民館数【館】 1741\n",
            "G1401_図書館数【館】 1741\n",
            "H6101_小売店数（事業所・企業統計調査結果）【事業所】 1741\n",
            "H6102_飲食店数（事業所・企業統計調査結果）【事業所】 1741\n",
            "I5101_病院数【施設】 1741\n",
            "I5211_病院病床数【床】 1741\n",
            "I6100_医師数【人】 1741\n",
            "I6300_薬剤師数【人】 1741\n",
            "J2503_保育所等数（詳細票）【所】 1741\n",
            "J250301_公営保育所等数（詳細票）【所】 1741\n",
            "J250302_保育所等数（基本票）【所】 1741\n",
            "J250303_公営保育所等数（基本票）【所】 1741\n",
            "J2506_保育所等在所児数（詳細票）【人】 1741\n",
            "K3101_交通事故発生件数【件】 1741\n",
            "K4201_刑法犯認知件数【件】 1741\n",
            "A1101_総人口【人】 1741\n",
            "A1301_15歳未満人口【人】 1741\n",
            "A1302_15〜64歳人口【人】 1741\n",
            "A1303_65歳以上人口【人】 1741\n",
            "A7101_世帯数【世帯】 1741\n",
            "B1101_総面積（北方地域及び竹島を除く）【ｈａ】 1741\n",
            "B1103_可住地面積【ｈａ】 1741\n",
            "B1105_林野面積【ｈａ】 1741\n",
            "B1106_森林面積【ｈａ】 1741\n",
            "B1107_森林以外の草生地面積【ｈａ】 1741\n",
            "E1101_幼稚園数【園】 1741\n",
            "E1501_幼稚園在園者数【人】 1741\n",
            "E2101_小学校数【校】 1741\n",
            "E2401_小学校教員数【人】 1741\n",
            "E2501_小学校児童数【人】 1741\n",
            "E3101_中学校数【校】 1741\n",
            "E3401_中学校教員数【人】 1741\n",
            "E3501_中学校生徒数【人】 1741\n",
            "E4101_高等学校数【校】 1741\n",
            "E4501_高等学校生徒数【人】 1741\n",
            "H2904_最寄りの保育所までの距離が1000ｍ以上の住宅数【住宅】 1115\n",
            "H2913_最寄りの老人デイサービスセンターまでの距離が1000〜2000ｍ未満の住宅数【住宅】 1115\n",
            "H5609_ごみ総排出量（総量）【ｔ】 1718\n",
            "(1741, 49)\n"
          ]
        }
      ]
    },
    {
      "cell_type": "code",
      "source": [
        "df_recent_year.info()"
      ],
      "metadata": {
        "colab": {
          "base_uri": "https://localhost:8080/"
        },
        "id": "axyZ2hEpzYYt",
        "outputId": "6341355c-07ad-4abf-8354-68b610a05159"
      },
      "execution_count": 10,
      "outputs": [
        {
          "output_type": "stream",
          "name": "stdout",
          "text": [
            "<class 'pandas.core.frame.DataFrame'>\n",
            "Int64Index: 1741 entries, 0 to 1740\n",
            "Data columns (total 49 columns):\n",
            " #   Column                                                   Non-Null Count  Dtype  \n",
            "---  ------                                                   --------------  -----  \n",
            " 0   地域 コード                                                   1741 non-null   int64  \n",
            " 1   地域                                                       1741 non-null   object \n",
            " 2   C2107_事業所数（経済センサス‐基礎調査結果）【所】_2019年度                      1741 non-null   float64\n",
            " 3   C5401_標準価格（平均価格）（住宅地）【円／ｍ2】_2009年度                       1602 non-null   float64\n",
            " 4   D1202_一般行政部門職員数（市区町村）【人】_2020年度                          1741 non-null   float64\n",
            " 5   D2201_財政力指数（市町村財政）【‐】_2019年度                             1718 non-null   float64\n",
            " 6   D2202_実質収支比率（市町村財政）【％】_2019年度                            1718 non-null   float64\n",
            " 7   D2204_公債費比率（市町村財政）【％】_2007年度                             1673 non-null   float64\n",
            " 8   D2209_一般財源（市町村財政）【千円】_2019年度                             1741 non-null   float64\n",
            " 9   D2214_実質赤字比率（市町村財政）【％】_2019年度                            1741 non-null   float64\n",
            " 10  D320401_人件費（市町村財政）【千円】_2019年度                            1741 non-null   float64\n",
            " 11  G1201_公民館数【館】_2018年度                                     1741 non-null   float64\n",
            " 12  G1401_図書館数【館】_2018年度                                     1741 non-null   float64\n",
            " 13  H6101_小売店数（事業所・企業統計調査結果）【事業所】_2006年度                     1741 non-null   float64\n",
            " 14  H6102_飲食店数（事業所・企業統計調査結果）【事業所】_2006年度                     1741 non-null   float64\n",
            " 15  I5101_病院数【施設】_2019年度                                     1741 non-null   float64\n",
            " 16  I5211_病院病床数【床】_2019年度                                    1741 non-null   float64\n",
            " 17  I6100_医師数【人】_2018年度                                      1741 non-null   float64\n",
            " 18  I6300_薬剤師数【人】_2018年度                                     1741 non-null   float64\n",
            " 19  J2503_保育所等数（詳細票）【所】_2017年度                               1741 non-null   float64\n",
            " 20  J250301_公営保育所等数（詳細票）【所】_2017年度                           1741 non-null   float64\n",
            " 21  J250302_保育所等数（基本票）【所】_2019年度                             1741 non-null   float64\n",
            " 22  J250303_公営保育所等数（基本票）【所】_2019年度                           1741 non-null   float64\n",
            " 23  J2506_保育所等在所児数（詳細票）【人】_2017年度                            1741 non-null   float64\n",
            " 24  K3101_交通事故発生件数【件】_2009年度                                 1741 non-null   float64\n",
            " 25  K4201_刑法犯認知件数【件】_2008年度                                  1741 non-null   float64\n",
            " 26  A1101_総人口【人】_2015年度                                      1741 non-null   float64\n",
            " 27  A1301_15歳未満人口【人】_2015年度                                  1741 non-null   float64\n",
            " 28  A1302_15〜64歳人口【人】_2015年度                                 1741 non-null   float64\n",
            " 29  A1303_65歳以上人口【人】_2015年度                                  1741 non-null   float64\n",
            " 30  A7101_世帯数【世帯】_2015年度                                     1741 non-null   float64\n",
            " 31  B1101_総面積（北方地域及び竹島を除く）【ｈａ】_2020年度                        1741 non-null   float64\n",
            " 32  B1103_可住地面積【ｈａ】_2020年度                                   1741 non-null   float64\n",
            " 33  B1105_林野面積【ｈａ】_2014年度                                    1741 non-null   float64\n",
            " 34  B1106_森林面積【ｈａ】_2014年度                                    1741 non-null   float64\n",
            " 35  B1107_森林以外の草生地面積【ｈａ】_2014年度                              1741 non-null   float64\n",
            " 36  E1101_幼稚園数【園】_2020年度                                     1741 non-null   float64\n",
            " 37  E1501_幼稚園在園者数【人】_2020年度                                  1741 non-null   float64\n",
            " 38  E2101_小学校数【校】_2020年度                                     1741 non-null   float64\n",
            " 39  E2401_小学校教員数【人】_2020年度                                   1741 non-null   float64\n",
            " 40  E2501_小学校児童数【人】_2020年度                                   1741 non-null   float64\n",
            " 41  E3101_中学校数【校】_2020年度                                     1741 non-null   float64\n",
            " 42  E3401_中学校教員数【人】_2020年度                                   1741 non-null   float64\n",
            " 43  E3501_中学校生徒数【人】_2020年度                                   1741 non-null   float64\n",
            " 44  E4101_高等学校数【校】_2020年度                                    1741 non-null   float64\n",
            " 45  E4501_高等学校生徒数【人】_2020年度                                  1741 non-null   float64\n",
            " 46  H2904_最寄りの保育所までの距離が1000ｍ以上の住宅数【住宅】_2013年度                1115 non-null   float64\n",
            " 47  H2913_最寄りの老人デイサービスセンターまでの距離が1000〜2000ｍ未満の住宅数【住宅】_2013年度  1115 non-null   float64\n",
            " 48  H5609_ごみ総排出量（総量）【ｔ】_2019年度                               1718 non-null   float64\n",
            "dtypes: float64(47), int64(1), object(1)\n",
            "memory usage: 680.1+ KB\n"
          ]
        }
      ]
    },
    {
      "cell_type": "code",
      "source": [
        "df_recent_year.to_csv(os.path.join(DIR_NAME, 'e_stat_data.csv'), index=False)"
      ],
      "metadata": {
        "id": "I_UGJ01K7Vag"
      },
      "execution_count": 15,
      "outputs": []
    },
    {
      "cell_type": "code",
      "source": [],
      "metadata": {
        "id": "rg4cyfrJ9r-Y"
      },
      "execution_count": 11,
      "outputs": []
    }
  ]
}