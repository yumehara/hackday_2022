{
  "nbformat": 4,
  "nbformat_minor": 0,
  "metadata": {
    "colab": {
      "provenance": [],
      "authorship_tag": "ABX9TyN6n7sTOHw3tftgAQyZ6J9X",
      "include_colab_link": true
    },
    "kernelspec": {
      "name": "python3",
      "display_name": "Python 3"
    },
    "language_info": {
      "name": "python"
    }
  },
  "cells": [
    {
      "cell_type": "markdown",
      "metadata": {
        "id": "view-in-github",
        "colab_type": "text"
      },
      "source": [
        "<a href=\"https://colab.research.google.com/github/yumehara/hackday_2022/blob/main/notebooks/hospital.ipynb\" target=\"_parent\"><img src=\"https://colab.research.google.com/assets/colab-badge.svg\" alt=\"Open In Colab\"/></a>"
      ]
    },
    {
      "cell_type": "markdown",
      "source": [
        "# 病院数・病床数"
      ],
      "metadata": {
        "id": "XA5klfpqul5n"
      }
    },
    {
      "cell_type": "code",
      "execution_count": 1,
      "metadata": {
        "colab": {
          "base_uri": "https://localhost:8080/"
        },
        "id": "sUiHY8yfHhde",
        "outputId": "c113de10-ffdb-4bc5-b7fe-f80ecc6804ce"
      },
      "outputs": [
        {
          "output_type": "stream",
          "name": "stdout",
          "text": [
            "Drive already mounted at /content/drive; to attempt to forcibly remount, call drive.mount(\"/content/drive\", force_remount=True).\n"
          ]
        }
      ],
      "source": [
        "from google.colab import drive\n",
        "drive.mount('/content/drive')"
      ]
    },
    {
      "cell_type": "code",
      "source": [
        "!pip install -q japanize-matplotlib\n",
        "\n",
        "import os\n",
        "import pandas as pd\n",
        "import matplotlib.pyplot as plt\n",
        "import japanize_matplotlib\n",
        "import seaborn as sns\n",
        "import numpy as np"
      ],
      "metadata": {
        "id": "Rew5jZpVHi12"
      },
      "execution_count": 2,
      "outputs": []
    },
    {
      "cell_type": "code",
      "source": [
        "DIR_NAME = '/content/drive/MyDrive/hackday/'"
      ],
      "metadata": {
        "id": "R6ndgiHHHt50"
      },
      "execution_count": 3,
      "outputs": []
    },
    {
      "cell_type": "code",
      "source": [
        "df_medicalcare = pd.read_csv(os.path.join(DIR_NAME, 'medical_care.csv'))\n",
        "print(df_medicalcare.shape)"
      ],
      "metadata": {
        "colab": {
          "base_uri": "https://localhost:8080/"
        },
        "id": "zLweT_MhHww1",
        "outputId": "f96c0d73-fa9b-480f-9730-95c607d139ef"
      },
      "execution_count": 4,
      "outputs": [
        {
          "output_type": "stream",
          "name": "stdout",
          "text": [
            "(29614, 11)\n"
          ]
        }
      ]
    },
    {
      "cell_type": "code",
      "source": [
        "df_medicalcare.head()"
      ],
      "metadata": {
        "colab": {
          "base_uri": "https://localhost:8080/",
          "height": 206
        },
        "id": "McRSUGFSgIdP",
        "outputId": "7054c74d-3585-4f04-813b-9e93eeea2c1a"
      },
      "execution_count": 5,
      "outputs": [
        {
          "output_type": "execute_result",
          "data": {
            "text/plain": [
              "   tab_code     表章項目  cat01_code 病床の種類_019  cat02_code R01二次医療圏・市区町村別  \\\n",
              "0        58  病院数；病床数           1     病院施設数        1000         01　北海道   \n",
              "1        58  病院数；病床数           1     病院施設数        1010       0101　南渡島   \n",
              "2        58  病院数；病床数           1     病院施設数        1020      01202 函館市   \n",
              "3        58  病院数；病床数           1     病院施設数        1030      01236 北斗市   \n",
              "4        58  病院数；病床数           1     病院施設数        1040      01331 松前町   \n",
              "\n",
              "    time_code        調査年10  unit value  annotation  \n",
              "0  2019000000  令和元年(2019年)   NaN   552         NaN  \n",
              "1  2019000000  令和元年(2019年)   NaN    33         NaN  \n",
              "2  2019000000  令和元年(2019年)   NaN    27         NaN  \n",
              "3  2019000000  令和元年(2019年)   NaN     -         NaN  \n",
              "4  2019000000  令和元年(2019年)   NaN     1         NaN  "
            ],
            "text/html": [
              "\n",
              "  <div id=\"df-7c4037e8-02b4-4a4b-8dd5-5bb04ed8ba29\">\n",
              "    <div class=\"colab-df-container\">\n",
              "      <div>\n",
              "<style scoped>\n",
              "    .dataframe tbody tr th:only-of-type {\n",
              "        vertical-align: middle;\n",
              "    }\n",
              "\n",
              "    .dataframe tbody tr th {\n",
              "        vertical-align: top;\n",
              "    }\n",
              "\n",
              "    .dataframe thead th {\n",
              "        text-align: right;\n",
              "    }\n",
              "</style>\n",
              "<table border=\"1\" class=\"dataframe\">\n",
              "  <thead>\n",
              "    <tr style=\"text-align: right;\">\n",
              "      <th></th>\n",
              "      <th>tab_code</th>\n",
              "      <th>表章項目</th>\n",
              "      <th>cat01_code</th>\n",
              "      <th>病床の種類_019</th>\n",
              "      <th>cat02_code</th>\n",
              "      <th>R01二次医療圏・市区町村別</th>\n",
              "      <th>time_code</th>\n",
              "      <th>調査年10</th>\n",
              "      <th>unit</th>\n",
              "      <th>value</th>\n",
              "      <th>annotation</th>\n",
              "    </tr>\n",
              "  </thead>\n",
              "  <tbody>\n",
              "    <tr>\n",
              "      <th>0</th>\n",
              "      <td>58</td>\n",
              "      <td>病院数；病床数</td>\n",
              "      <td>1</td>\n",
              "      <td>病院施設数</td>\n",
              "      <td>1000</td>\n",
              "      <td>01　北海道</td>\n",
              "      <td>2019000000</td>\n",
              "      <td>令和元年(2019年)</td>\n",
              "      <td>NaN</td>\n",
              "      <td>552</td>\n",
              "      <td>NaN</td>\n",
              "    </tr>\n",
              "    <tr>\n",
              "      <th>1</th>\n",
              "      <td>58</td>\n",
              "      <td>病院数；病床数</td>\n",
              "      <td>1</td>\n",
              "      <td>病院施設数</td>\n",
              "      <td>1010</td>\n",
              "      <td>0101　南渡島</td>\n",
              "      <td>2019000000</td>\n",
              "      <td>令和元年(2019年)</td>\n",
              "      <td>NaN</td>\n",
              "      <td>33</td>\n",
              "      <td>NaN</td>\n",
              "    </tr>\n",
              "    <tr>\n",
              "      <th>2</th>\n",
              "      <td>58</td>\n",
              "      <td>病院数；病床数</td>\n",
              "      <td>1</td>\n",
              "      <td>病院施設数</td>\n",
              "      <td>1020</td>\n",
              "      <td>01202 函館市</td>\n",
              "      <td>2019000000</td>\n",
              "      <td>令和元年(2019年)</td>\n",
              "      <td>NaN</td>\n",
              "      <td>27</td>\n",
              "      <td>NaN</td>\n",
              "    </tr>\n",
              "    <tr>\n",
              "      <th>3</th>\n",
              "      <td>58</td>\n",
              "      <td>病院数；病床数</td>\n",
              "      <td>1</td>\n",
              "      <td>病院施設数</td>\n",
              "      <td>1030</td>\n",
              "      <td>01236 北斗市</td>\n",
              "      <td>2019000000</td>\n",
              "      <td>令和元年(2019年)</td>\n",
              "      <td>NaN</td>\n",
              "      <td>-</td>\n",
              "      <td>NaN</td>\n",
              "    </tr>\n",
              "    <tr>\n",
              "      <th>4</th>\n",
              "      <td>58</td>\n",
              "      <td>病院数；病床数</td>\n",
              "      <td>1</td>\n",
              "      <td>病院施設数</td>\n",
              "      <td>1040</td>\n",
              "      <td>01331 松前町</td>\n",
              "      <td>2019000000</td>\n",
              "      <td>令和元年(2019年)</td>\n",
              "      <td>NaN</td>\n",
              "      <td>1</td>\n",
              "      <td>NaN</td>\n",
              "    </tr>\n",
              "  </tbody>\n",
              "</table>\n",
              "</div>\n",
              "      <button class=\"colab-df-convert\" onclick=\"convertToInteractive('df-7c4037e8-02b4-4a4b-8dd5-5bb04ed8ba29')\"\n",
              "              title=\"Convert this dataframe to an interactive table.\"\n",
              "              style=\"display:none;\">\n",
              "        \n",
              "  <svg xmlns=\"http://www.w3.org/2000/svg\" height=\"24px\"viewBox=\"0 0 24 24\"\n",
              "       width=\"24px\">\n",
              "    <path d=\"M0 0h24v24H0V0z\" fill=\"none\"/>\n",
              "    <path d=\"M18.56 5.44l.94 2.06.94-2.06 2.06-.94-2.06-.94-.94-2.06-.94 2.06-2.06.94zm-11 1L8.5 8.5l.94-2.06 2.06-.94-2.06-.94L8.5 2.5l-.94 2.06-2.06.94zm10 10l.94 2.06.94-2.06 2.06-.94-2.06-.94-.94-2.06-.94 2.06-2.06.94z\"/><path d=\"M17.41 7.96l-1.37-1.37c-.4-.4-.92-.59-1.43-.59-.52 0-1.04.2-1.43.59L10.3 9.45l-7.72 7.72c-.78.78-.78 2.05 0 2.83L4 21.41c.39.39.9.59 1.41.59.51 0 1.02-.2 1.41-.59l7.78-7.78 2.81-2.81c.8-.78.8-2.07 0-2.86zM5.41 20L4 18.59l7.72-7.72 1.47 1.35L5.41 20z\"/>\n",
              "  </svg>\n",
              "      </button>\n",
              "      \n",
              "  <style>\n",
              "    .colab-df-container {\n",
              "      display:flex;\n",
              "      flex-wrap:wrap;\n",
              "      gap: 12px;\n",
              "    }\n",
              "\n",
              "    .colab-df-convert {\n",
              "      background-color: #E8F0FE;\n",
              "      border: none;\n",
              "      border-radius: 50%;\n",
              "      cursor: pointer;\n",
              "      display: none;\n",
              "      fill: #1967D2;\n",
              "      height: 32px;\n",
              "      padding: 0 0 0 0;\n",
              "      width: 32px;\n",
              "    }\n",
              "\n",
              "    .colab-df-convert:hover {\n",
              "      background-color: #E2EBFA;\n",
              "      box-shadow: 0px 1px 2px rgba(60, 64, 67, 0.3), 0px 1px 3px 1px rgba(60, 64, 67, 0.15);\n",
              "      fill: #174EA6;\n",
              "    }\n",
              "\n",
              "    [theme=dark] .colab-df-convert {\n",
              "      background-color: #3B4455;\n",
              "      fill: #D2E3FC;\n",
              "    }\n",
              "\n",
              "    [theme=dark] .colab-df-convert:hover {\n",
              "      background-color: #434B5C;\n",
              "      box-shadow: 0px 1px 3px 1px rgba(0, 0, 0, 0.15);\n",
              "      filter: drop-shadow(0px 1px 2px rgba(0, 0, 0, 0.3));\n",
              "      fill: #FFFFFF;\n",
              "    }\n",
              "  </style>\n",
              "\n",
              "      <script>\n",
              "        const buttonEl =\n",
              "          document.querySelector('#df-7c4037e8-02b4-4a4b-8dd5-5bb04ed8ba29 button.colab-df-convert');\n",
              "        buttonEl.style.display =\n",
              "          google.colab.kernel.accessAllowed ? 'block' : 'none';\n",
              "\n",
              "        async function convertToInteractive(key) {\n",
              "          const element = document.querySelector('#df-7c4037e8-02b4-4a4b-8dd5-5bb04ed8ba29');\n",
              "          const dataTable =\n",
              "            await google.colab.kernel.invokeFunction('convertToInteractive',\n",
              "                                                     [key], {});\n",
              "          if (!dataTable) return;\n",
              "\n",
              "          const docLinkHtml = 'Like what you see? Visit the ' +\n",
              "            '<a target=\"_blank\" href=https://colab.research.google.com/notebooks/data_table.ipynb>data table notebook</a>'\n",
              "            + ' to learn more about interactive tables.';\n",
              "          element.innerHTML = '';\n",
              "          dataTable['output_type'] = 'display_data';\n",
              "          await google.colab.output.renderOutput(dataTable, element);\n",
              "          const docLink = document.createElement('div');\n",
              "          docLink.innerHTML = docLinkHtml;\n",
              "          element.appendChild(docLink);\n",
              "        }\n",
              "      </script>\n",
              "    </div>\n",
              "  </div>\n",
              "  "
            ]
          },
          "metadata": {},
          "execution_count": 5
        }
      ]
    },
    {
      "cell_type": "code",
      "source": [
        "df_medicalcare['表章項目'].unique()"
      ],
      "metadata": {
        "colab": {
          "base_uri": "https://localhost:8080/"
        },
        "id": "GTLoJ7aLXczv",
        "outputId": "5d230eb1-9477-45ef-841c-afe110e4aae0"
      },
      "execution_count": 6,
      "outputs": [
        {
          "output_type": "execute_result",
          "data": {
            "text/plain": [
              "array(['病院数；病床数'], dtype=object)"
            ]
          },
          "metadata": {},
          "execution_count": 6
        }
      ]
    },
    {
      "cell_type": "code",
      "source": [
        "list(df_medicalcare['病床の種類_019'].unique())"
      ],
      "metadata": {
        "colab": {
          "base_uri": "https://localhost:8080/"
        },
        "id": "NU-h_kA8Xh4q",
        "outputId": "3d873340-6cc2-4645-9767-9f91b0c897f8"
      },
      "execution_count": 7,
      "outputs": [
        {
          "output_type": "execute_result",
          "data": {
            "text/plain": [
              "['病院施設数',\n",
              " '病院施設数（精神科病院）',\n",
              " '病院施設数（一般病院総数）',\n",
              " '病院施設数（一般病院総数（療養病床を有する病院(再掲)））',\n",
              " '地域医療支援病院(再掲)',\n",
              " '救急告示病院(再掲)',\n",
              " '病院病床数',\n",
              " '病院病床数（精神病床）',\n",
              " '病院病床数（感染症病床）',\n",
              " '病院病床数（結核病床）',\n",
              " '病院病床数（療養病床）',\n",
              " '病院病床数（一般病床）']"
            ]
          },
          "metadata": {},
          "execution_count": 7
        }
      ]
    },
    {
      "cell_type": "code",
      "source": [
        "df_medicalcare['value'] = df_medicalcare['value'].replace('-', np.NaN).astype(float)"
      ],
      "metadata": {
        "id": "a9X18cQRH7Fd"
      },
      "execution_count": 8,
      "outputs": []
    },
    {
      "cell_type": "code",
      "source": [
        "df_medicalcare_extract = df_medicalcare[\n",
        "    (df_medicalcare['病床の種類_019'] == '病院施設数')|(df_medicalcare['病床の種類_019'] == '病院病床数')\n",
        "][['R01二次医療圏・市区町村別', '病床の種類_019', 'value']]\n",
        "df_medicalcare_extract.columns = ['市区町村', '種類', 'value']\n",
        "print(df_medicalcare_extract.shape)"
      ],
      "metadata": {
        "colab": {
          "base_uri": "https://localhost:8080/"
        },
        "id": "tfIfYcQmcIjP",
        "outputId": "cb1670b9-ed5c-4655-926b-464fe1a0a114"
      },
      "execution_count": 9,
      "outputs": [
        {
          "output_type": "stream",
          "name": "stdout",
          "text": [
            "(4556, 3)\n"
          ]
        }
      ]
    },
    {
      "cell_type": "code",
      "source": [
        "df_medicalcare_extract['団体コード'] = df_medicalcare_extract['市区町村'].apply(lambda x: x.split()[0]).astype(int)\n",
        "df_medicalcare_extract['市区町村名'] = df_medicalcare_extract['市区町村'].apply(lambda x: x.split()[1])\n",
        "df_medicalcare_extract = df_medicalcare_extract[\n",
        "    (df_medicalcare_extract['団体コード'] >= 1100)&\n",
        "    ((df_medicalcare_extract['市区町村名'].str.endswith('市'))|(df_medicalcare_extract['市区町村名'].str.endswith('区'))|\n",
        "     (df_medicalcare_extract['市区町村名'].str.endswith('町'))|(df_medicalcare_extract['市区町村名'].str.endswith('村')))&\n",
        "    (df_medicalcare_extract['市区町村名'] != '大阪市')\n",
        "]\n",
        "print(df_medicalcare_extract.shape)"
      ],
      "metadata": {
        "colab": {
          "base_uri": "https://localhost:8080/"
        },
        "id": "kVe_oIFrdTYN",
        "outputId": "309fdec8-898d-4a44-dced-846939060ccf"
      },
      "execution_count": 10,
      "outputs": [
        {
          "output_type": "stream",
          "name": "stdout",
          "text": [
            "(3794, 5)\n"
          ]
        }
      ]
    },
    {
      "cell_type": "code",
      "source": [
        "df_medicalcare_pivot = pd.pivot_table(\n",
        "    df_medicalcare_extract, \n",
        "    index=['市区町村名', '団体コード'], columns='種類', \n",
        "    values='value', aggfunc='sum'\n",
        ").reset_index()"
      ],
      "metadata": {
        "id": "M2ZKsBY4bNzx"
      },
      "execution_count": 11,
      "outputs": []
    },
    {
      "cell_type": "code",
      "source": [
        "df_hospital = df_medicalcare_pivot[\n",
        "    (df_medicalcare_pivot['市区町村名'] != '東京都')&(df_medicalcare_pivot['市区町村名'] != '北海道')&\n",
        "    (~df_medicalcare_pivot['市区町村名'].str.endswith('府'))&(~df_medicalcare_pivot['市区町村名'].str.endswith('県'))\n",
        "].sort_values('団体コード')"
      ],
      "metadata": {
        "id": "7PfZqTcae5cc"
      },
      "execution_count": 12,
      "outputs": []
    },
    {
      "cell_type": "code",
      "source": [
        "df_add_cirty = pd.DataFrame([\n",
        "    {'市区町村名': '札幌市', '団体コード': 1100, '行政区': ['中央区', '北区', '東区', '白石区', '豊平区', '南区', '西区', '厚別区', '手稲区', '清田区']},\n",
        "    {'市区町村名': '仙台市', '団体コード': 4100, '行政区': ['青葉区', '宮城野区', '若林区', '太白区', '泉区']},\n",
        "    {'市区町村名': 'さいたま市', '団体コード': 11100, '行政区': ['西区', '北区', '大宮区', '見沼区', '中央区', '桜区', '浦和区', '南区', '緑区', '岩槻区']},\n",
        "    {'市区町村名': '千葉市', '団体コード': 12100, '行政区': ['中央区', '花見川区', '稲毛区', '若葉区', '緑区', '美浜区']},\n",
        "    {'市区町村名': '横浜市', '団体コード': 14100, '行政区': ['鶴見区', '神奈川区', '西区', '中区', '南区', '保土ケ谷区', '磯子区', '金沢区', '港北区', '戸塚区', '港南区', '旭区', '緑区', '瀬谷区', '栄区', '泉区', '青葉区', '都筑区']},\n",
        "    {'市区町村名': '川崎市', '団体コード': 14130, '行政区': ['川崎区', '幸区', '中原区', '高津区', '多摩区', '宮前区', '麻生区']},\n",
        "    {'市区町村名': '相模原市', '団体コード': 14150, '行政区': ['緑区', '中央区', '南区']},\n",
        "    {'市区町村名': '新潟市', '団体コード': 15100, '行政区': ['北区', '東区', '中央区', '江南区', '秋葉区', '南区', '西区', '西蒲区']},\n",
        "    {'市区町村名': '静岡市', '団体コード': 22100, '行政区': ['葵区', '駿河区', '清水区']},\n",
        "    {'市区町村名': '浜松市', '団体コード': 22130, '行政区': ['中区', '東区', '西区', '南区', '北区', '浜北区', '天竜区']},\n",
        "    {'市区町村名': '名古屋市', '団体コード': 23100, '行政区': ['千種区', '東区', '北区', '西区', '中村区', '中区', '昭和区', '瑞穂区', '熱田区', '中川区', '港区', '南区', '守山区', '緑区', '名東区', '天白区']},\n",
        "    {'市区町村名': '京都市', '団体コード': 26100, '行政区': ['北区', '上京区', '左京区', '中京区', '東山区', '下京区', '南区', '右京区', '伏見区', '山科区', '西京区']},\n",
        "    {'市区町村名': '大阪市', '団体コード': 27100, '行政区': ['都島区', '福島区', '此花区', '西区', '港区', '大正区', '天王寺区', '浪速区', '西淀川区', '東淀川区', '東成区', '生野区', '旭区', '城東区', '阿倍野区', '住吉区', '東住吉区', '西成区', '淀川区', '鶴見区', '住之江区', '平野区', '北区', '中央区']},\n",
        "    {'市区町村名': '堺市', '団体コード': 27140, '行政区': ['堺区', '中区', '東区', '西区', '南区', '北区', '美原区']},\n",
        "    {'市区町村名': '神戸市', '団体コード': 28100, '行政区': ['東灘区', '灘区', '兵庫区', '長田区', '須磨区', '垂水区', '北区', '中央区', '西区']},\n",
        "    {'市区町村名': '岡山市', '団体コード': 33100, '行政区': ['北区', '中区', '東区', '南区']},\n",
        "    {'市区町村名': '広島市', '団体コード': 34100, '行政区': ['中区', '東区', '南区', '西区', '安佐南区', '安佐北区', '安芸区', '佐伯区']},\n",
        "    {'市区町村名': '北九州市', '団体コード': 40100, '行政区': ['門司区', '若松区', '戸畑区', '小倉北区', '小倉南区', '八幡東区', '八幡西区']},\n",
        "    {'市区町村名': '福岡市', '団体コード': 40130, '行政区': ['東区', '博多区', '中央区', '南区', '西区', '城南区', '早良区']},\n",
        "    {'市区町村名': '熊本市', '団体コード': 43100, '行政区': ['中央区', '東区', '西区', '南区', '北区']},\n",
        "])"
      ],
      "metadata": {
        "id": "DSBrPEnSKGiw"
      },
      "execution_count": 13,
      "outputs": []
    },
    {
      "cell_type": "code",
      "source": [
        "df_hospital['親_団体コード'] = df_hospital['団体コード']\n",
        "for index, row in df_add_cirty.iterrows():\n",
        "    city_code = row['団体コード']\n",
        "    name_list = row['行政区']\n",
        "    high_limit = 20 if row['市区町村名'] != '大阪市' else 30\n",
        "    df_hospital.loc[\n",
        "        (df_hospital['団体コード'] > city_code)&\n",
        "        (df_hospital['団体コード'] < city_code+high_limit)&\n",
        "        (df_hospital['市区町村名'].isin(name_list)), '親_団体コード'] = city_code"
      ],
      "metadata": {
        "id": "P6vD__hIKSUY"
      },
      "execution_count": 14,
      "outputs": []
    },
    {
      "cell_type": "code",
      "source": [
        "for index, row in df_add_cirty.iterrows():\n",
        "    name_list = list(df_hospital[df_hospital['親_団体コード'] == row['団体コード']]['市区町村名'])\n",
        "    print(row['市区町村名'], row['団体コード'], name_list, len(name_list), len(row['行政区']))"
      ],
      "metadata": {
        "colab": {
          "base_uri": "https://localhost:8080/"
        },
        "id": "ltoJ9P3fh3zb",
        "outputId": "0bb4fac3-40a5-49d7-ee2c-70de8d04ad48"
      },
      "execution_count": 15,
      "outputs": [
        {
          "output_type": "stream",
          "name": "stdout",
          "text": [
            "札幌市 1100 ['中央区', '北区', '東区', '白石区', '豊平区', '南区', '西区', '厚別区', '手稲区', '清田区'] 10 10\n",
            "仙台市 4100 ['青葉区', '宮城野区', '若林区', '太白区', '泉区'] 5 5\n",
            "さいたま市 11100 ['西区', '北区', '大宮区', '見沼区', '中央区', '桜区', '浦和区', '南区', '緑区', '岩槻区'] 10 10\n",
            "千葉市 12100 ['中央区', '花見川区', '稲毛区', '若葉区', '緑区', '美浜区'] 6 6\n",
            "横浜市 14100 ['鶴見区', '神奈川区', '西区', '中区', '南区', '保土ケ谷区', '磯子区', '金沢区', '港北区', '戸塚区', '港南区', '旭区', '緑区', '瀬谷区', '栄区', '泉区', '青葉区', '都筑区'] 18 18\n",
            "川崎市 14130 ['川崎区', '幸区', '中原区', '高津区', '多摩区', '宮前区', '麻生区'] 7 7\n",
            "相模原市 14150 ['緑区', '中央区', '南区'] 3 3\n",
            "新潟市 15100 ['北区', '東区', '中央区', '江南区', '秋葉区', '南区', '西区', '西蒲区'] 8 8\n",
            "静岡市 22100 ['葵区', '駿河区', '清水区'] 3 3\n",
            "浜松市 22130 ['中区', '東区', '西区', '南区', '北区', '浜北区', '天竜区'] 7 7\n",
            "名古屋市 23100 ['千種区', '東区', '北区', '西区', '中村区', '中区', '昭和区', '瑞穂区', '熱田区', '中川区', '港区', '南区', '守山区', '緑区', '名東区', '天白区'] 16 16\n",
            "京都市 26100 ['北区', '上京区', '左京区', '中京区', '東山区', '下京区', '南区', '右京区', '伏見区', '山科区', '西京区'] 11 11\n",
            "大阪市 27100 ['都島区', '福島区', '此花区', '西区', '港区', '大正区', '天王寺区', '浪速区', '西淀川区', '東淀川区', '東成区', '生野区', '旭区', '城東区', '阿倍野区', '住吉区', '東住吉区', '西成区', '淀川区', '鶴見区', '住之江区', '平野区', '北区', '中央区'] 24 24\n",
            "堺市 27140 ['堺区', '中区', '東区', '西区', '南区', '北区', '美原区'] 7 7\n",
            "神戸市 28100 ['東灘区', '灘区', '兵庫区', '長田区', '須磨区', '垂水区', '北区', '中央区', '西区'] 9 9\n",
            "岡山市 33100 ['北区', '中区', '東区', '南区'] 4 4\n",
            "広島市 34100 ['中区', '東区', '南区', '西区', '安佐南区', '安佐北区', '安芸区', '佐伯区'] 8 8\n",
            "北九州市 40100 ['門司区', '若松区', '戸畑区', '小倉北区', '小倉南区', '八幡東区', '八幡西区'] 7 7\n",
            "福岡市 40130 ['東区', '博多区', '中央区', '南区', '西区', '城南区', '早良区'] 7 7\n",
            "熊本市 43100 ['中央区', '東区', '西区', '南区', '北区'] 5 5\n"
          ]
        }
      ]
    },
    {
      "cell_type": "code",
      "source": [
        "for index, row in df_add_cirty.iterrows():\n",
        "    city_code = row['団体コード']\n",
        "    add_row = df_hospital[df_hospital['親_団体コード'] == city_code].sum()\n",
        "    add_row['市区町村名'] = row['市区町村名']\n",
        "    add_row['団体コード'] = city_code\n",
        "    add_row['親_団体コード'] = city_code\n",
        "    df_hospital = df_hospital.append(add_row, ignore_index=True)"
      ],
      "metadata": {
        "id": "lLG2sEhCh4qv"
      },
      "execution_count": 16,
      "outputs": []
    },
    {
      "cell_type": "code",
      "source": [
        "df_hospital = df_hospital.sort_values('団体コード').reset_index(drop=True)\n",
        "print(df_hospital.shape)\n",
        "df_hospital.head(10)"
      ],
      "metadata": {
        "colab": {
          "base_uri": "https://localhost:8080/",
          "height": 380
        },
        "id": "de64gvZjnvPk",
        "outputId": "bb6ebdf2-67e6-4de8-acc4-6efbd3d26396"
      },
      "execution_count": 17,
      "outputs": [
        {
          "output_type": "stream",
          "name": "stdout",
          "text": [
            "(1917, 5)\n"
          ]
        },
        {
          "output_type": "execute_result",
          "data": {
            "text/plain": [
              "種類 市区町村名  団体コード  病院施設数    病院病床数  親_団体コード\n",
              "0    札幌市   1100  202.0  36603.0     1100\n",
              "1    中央区   1101   39.0   8590.0     1100\n",
              "2     北区   1102   24.0   3561.0     1100\n",
              "3     東区   1103   24.0   3641.0     1100\n",
              "4    白石区   1104   21.0   3683.0     1100\n",
              "5    豊平区   1105   14.0   2476.0     1100\n",
              "6     南区   1106   16.0   2846.0     1100\n",
              "7     西区   1107   23.0   3516.0     1100\n",
              "8    厚別区   1108   16.0   2614.0     1100\n",
              "9    手稲区   1109   14.0   3611.0     1100"
            ],
            "text/html": [
              "\n",
              "  <div id=\"df-57238127-14c1-4aa4-8bb7-f116890807ab\">\n",
              "    <div class=\"colab-df-container\">\n",
              "      <div>\n",
              "<style scoped>\n",
              "    .dataframe tbody tr th:only-of-type {\n",
              "        vertical-align: middle;\n",
              "    }\n",
              "\n",
              "    .dataframe tbody tr th {\n",
              "        vertical-align: top;\n",
              "    }\n",
              "\n",
              "    .dataframe thead th {\n",
              "        text-align: right;\n",
              "    }\n",
              "</style>\n",
              "<table border=\"1\" class=\"dataframe\">\n",
              "  <thead>\n",
              "    <tr style=\"text-align: right;\">\n",
              "      <th>種類</th>\n",
              "      <th>市区町村名</th>\n",
              "      <th>団体コード</th>\n",
              "      <th>病院施設数</th>\n",
              "      <th>病院病床数</th>\n",
              "      <th>親_団体コード</th>\n",
              "    </tr>\n",
              "  </thead>\n",
              "  <tbody>\n",
              "    <tr>\n",
              "      <th>0</th>\n",
              "      <td>札幌市</td>\n",
              "      <td>1100</td>\n",
              "      <td>202.0</td>\n",
              "      <td>36603.0</td>\n",
              "      <td>1100</td>\n",
              "    </tr>\n",
              "    <tr>\n",
              "      <th>1</th>\n",
              "      <td>中央区</td>\n",
              "      <td>1101</td>\n",
              "      <td>39.0</td>\n",
              "      <td>8590.0</td>\n",
              "      <td>1100</td>\n",
              "    </tr>\n",
              "    <tr>\n",
              "      <th>2</th>\n",
              "      <td>北区</td>\n",
              "      <td>1102</td>\n",
              "      <td>24.0</td>\n",
              "      <td>3561.0</td>\n",
              "      <td>1100</td>\n",
              "    </tr>\n",
              "    <tr>\n",
              "      <th>3</th>\n",
              "      <td>東区</td>\n",
              "      <td>1103</td>\n",
              "      <td>24.0</td>\n",
              "      <td>3641.0</td>\n",
              "      <td>1100</td>\n",
              "    </tr>\n",
              "    <tr>\n",
              "      <th>4</th>\n",
              "      <td>白石区</td>\n",
              "      <td>1104</td>\n",
              "      <td>21.0</td>\n",
              "      <td>3683.0</td>\n",
              "      <td>1100</td>\n",
              "    </tr>\n",
              "    <tr>\n",
              "      <th>5</th>\n",
              "      <td>豊平区</td>\n",
              "      <td>1105</td>\n",
              "      <td>14.0</td>\n",
              "      <td>2476.0</td>\n",
              "      <td>1100</td>\n",
              "    </tr>\n",
              "    <tr>\n",
              "      <th>6</th>\n",
              "      <td>南区</td>\n",
              "      <td>1106</td>\n",
              "      <td>16.0</td>\n",
              "      <td>2846.0</td>\n",
              "      <td>1100</td>\n",
              "    </tr>\n",
              "    <tr>\n",
              "      <th>7</th>\n",
              "      <td>西区</td>\n",
              "      <td>1107</td>\n",
              "      <td>23.0</td>\n",
              "      <td>3516.0</td>\n",
              "      <td>1100</td>\n",
              "    </tr>\n",
              "    <tr>\n",
              "      <th>8</th>\n",
              "      <td>厚別区</td>\n",
              "      <td>1108</td>\n",
              "      <td>16.0</td>\n",
              "      <td>2614.0</td>\n",
              "      <td>1100</td>\n",
              "    </tr>\n",
              "    <tr>\n",
              "      <th>9</th>\n",
              "      <td>手稲区</td>\n",
              "      <td>1109</td>\n",
              "      <td>14.0</td>\n",
              "      <td>3611.0</td>\n",
              "      <td>1100</td>\n",
              "    </tr>\n",
              "  </tbody>\n",
              "</table>\n",
              "</div>\n",
              "      <button class=\"colab-df-convert\" onclick=\"convertToInteractive('df-57238127-14c1-4aa4-8bb7-f116890807ab')\"\n",
              "              title=\"Convert this dataframe to an interactive table.\"\n",
              "              style=\"display:none;\">\n",
              "        \n",
              "  <svg xmlns=\"http://www.w3.org/2000/svg\" height=\"24px\"viewBox=\"0 0 24 24\"\n",
              "       width=\"24px\">\n",
              "    <path d=\"M0 0h24v24H0V0z\" fill=\"none\"/>\n",
              "    <path d=\"M18.56 5.44l.94 2.06.94-2.06 2.06-.94-2.06-.94-.94-2.06-.94 2.06-2.06.94zm-11 1L8.5 8.5l.94-2.06 2.06-.94-2.06-.94L8.5 2.5l-.94 2.06-2.06.94zm10 10l.94 2.06.94-2.06 2.06-.94-2.06-.94-.94-2.06-.94 2.06-2.06.94z\"/><path d=\"M17.41 7.96l-1.37-1.37c-.4-.4-.92-.59-1.43-.59-.52 0-1.04.2-1.43.59L10.3 9.45l-7.72 7.72c-.78.78-.78 2.05 0 2.83L4 21.41c.39.39.9.59 1.41.59.51 0 1.02-.2 1.41-.59l7.78-7.78 2.81-2.81c.8-.78.8-2.07 0-2.86zM5.41 20L4 18.59l7.72-7.72 1.47 1.35L5.41 20z\"/>\n",
              "  </svg>\n",
              "      </button>\n",
              "      \n",
              "  <style>\n",
              "    .colab-df-container {\n",
              "      display:flex;\n",
              "      flex-wrap:wrap;\n",
              "      gap: 12px;\n",
              "    }\n",
              "\n",
              "    .colab-df-convert {\n",
              "      background-color: #E8F0FE;\n",
              "      border: none;\n",
              "      border-radius: 50%;\n",
              "      cursor: pointer;\n",
              "      display: none;\n",
              "      fill: #1967D2;\n",
              "      height: 32px;\n",
              "      padding: 0 0 0 0;\n",
              "      width: 32px;\n",
              "    }\n",
              "\n",
              "    .colab-df-convert:hover {\n",
              "      background-color: #E2EBFA;\n",
              "      box-shadow: 0px 1px 2px rgba(60, 64, 67, 0.3), 0px 1px 3px 1px rgba(60, 64, 67, 0.15);\n",
              "      fill: #174EA6;\n",
              "    }\n",
              "\n",
              "    [theme=dark] .colab-df-convert {\n",
              "      background-color: #3B4455;\n",
              "      fill: #D2E3FC;\n",
              "    }\n",
              "\n",
              "    [theme=dark] .colab-df-convert:hover {\n",
              "      background-color: #434B5C;\n",
              "      box-shadow: 0px 1px 3px 1px rgba(0, 0, 0, 0.15);\n",
              "      filter: drop-shadow(0px 1px 2px rgba(0, 0, 0, 0.3));\n",
              "      fill: #FFFFFF;\n",
              "    }\n",
              "  </style>\n",
              "\n",
              "      <script>\n",
              "        const buttonEl =\n",
              "          document.querySelector('#df-57238127-14c1-4aa4-8bb7-f116890807ab button.colab-df-convert');\n",
              "        buttonEl.style.display =\n",
              "          google.colab.kernel.accessAllowed ? 'block' : 'none';\n",
              "\n",
              "        async function convertToInteractive(key) {\n",
              "          const element = document.querySelector('#df-57238127-14c1-4aa4-8bb7-f116890807ab');\n",
              "          const dataTable =\n",
              "            await google.colab.kernel.invokeFunction('convertToInteractive',\n",
              "                                                     [key], {});\n",
              "          if (!dataTable) return;\n",
              "\n",
              "          const docLinkHtml = 'Like what you see? Visit the ' +\n",
              "            '<a target=\"_blank\" href=https://colab.research.google.com/notebooks/data_table.ipynb>data table notebook</a>'\n",
              "            + ' to learn more about interactive tables.';\n",
              "          element.innerHTML = '';\n",
              "          dataTable['output_type'] = 'display_data';\n",
              "          await google.colab.output.renderOutput(dataTable, element);\n",
              "          const docLink = document.createElement('div');\n",
              "          docLink.innerHTML = docLinkHtml;\n",
              "          element.appendChild(docLink);\n",
              "        }\n",
              "      </script>\n",
              "    </div>\n",
              "  </div>\n",
              "  "
            ]
          },
          "metadata": {},
          "execution_count": 17
        }
      ]
    },
    {
      "cell_type": "code",
      "source": [
        "df_hospital.to_csv(os.path.join(DIR_NAME, 'hospital.csv'), index=False)"
      ],
      "metadata": {
        "id": "X2PEkFnRoDco"
      },
      "execution_count": 18,
      "outputs": []
    },
    {
      "cell_type": "code",
      "source": [
        "df_hospital['病院当たりの病床数'] = df_hospital['病院病床数'] / df_hospital['病院施設数']"
      ],
      "metadata": {
        "id": "6JApRtGfsfMw"
      },
      "execution_count": 19,
      "outputs": []
    },
    {
      "cell_type": "code",
      "source": [
        "df_hospital_tokyo = df_hospital[\n",
        "    ((df_hospital['団体コード'].astype(str).str[:-3] == '13')&   # 東京都\n",
        "    ((df_hospital['市区町村名'].str.endswith('区'))))|\n",
        "    (df_hospital['団体コード'] == 11100) |    # さいたま市\n",
        "    (df_hospital['団体コード'] == 14100) |    # 横浜市\n",
        "    (df_hospital['団体コード'] == 23100) |    # 名古屋市\n",
        "    (df_hospital['団体コード'] == 27100) |    # 大阪市\n",
        "    (df_hospital['団体コード'] == 40130)      # 福岡市\n",
        "].copy()"
      ],
      "metadata": {
        "id": "erRctciDoWHg"
      },
      "execution_count": 20,
      "outputs": []
    },
    {
      "cell_type": "code",
      "source": [
        "def draw_bar_graph_by_city(df_data, col_name, x_col='市区町村名'):\n",
        "    data = df_data.sort_values(col_name, ascending=False)[[x_col, col_name]]\n",
        "    data.plot(x=x_col, kind='bar', title=col_name, figsize=(17, 5))\n",
        "    mean = data[col_name].mean()\n",
        "    plt.axhline(y=mean, xmin=0, xmax=1, color='red')\n",
        "    plt.grid()\n",
        "    plt.legend().remove()\n",
        "    plt.show()"
      ],
      "metadata": {
        "id": "qFt9_o-2oo9o"
      },
      "execution_count": 21,
      "outputs": []
    },
    {
      "cell_type": "code",
      "source": [
        "for col in ['病院施設数', '病院病床数', '病院当たりの病床数']:\n",
        "    draw_bar_graph_by_city(df_hospital_tokyo, col)"
      ],
      "metadata": {
        "colab": {
          "base_uri": "https://localhost:8080/",
          "height": 1000
        },
        "id": "05a7xIg2sGC6",
        "outputId": "2898d019-fecd-431b-da4e-dab770d63879"
      },
      "execution_count": 22,
      "outputs": [
        {
          "output_type": "display_data",
          "data": {
            "text/plain": [
              "<Figure size 1224x360 with 1 Axes>"
            ],
            "image/png": "[encoded data removed]"
          },
          "metadata": {
            "needs_background": "light"
          }
        },
        {
          "output_type": "display_data",
          "data": {
            "text/plain": [
              "<Figure size 1224x360 with 1 Axes>"
            ],
            "image/png": "[encoded data removed]"
          },
          "metadata": {
            "needs_background": "light"
          }
        },
        {
          "output_type": "display_data",
          "data": {
            "text/plain": [
              "<Figure size 1224x360 with 1 Axes>"
            ],
            "image/png": "[encoded data removed]"
          },
          "metadata": {
            "needs_background": "light"
          }
        }
      ]
    },
    {
      "cell_type": "code",
      "source": [],
      "metadata": {
        "id": "VmVbbfvwsQKn"
      },
      "execution_count": 22,
      "outputs": []
    }
  ]
}